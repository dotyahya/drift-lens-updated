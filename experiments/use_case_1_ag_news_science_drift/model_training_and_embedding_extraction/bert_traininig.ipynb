{
 "cells": [
  {
   "cell_type": "code",
   "execution_count": 1,
   "id": "1645eccf-f117-4e06-8308-6283afd4f611",
   "metadata": {},
   "outputs": [
    {
     "name": "stderr",
     "output_type": "stream",
     "text": [
      "/home/students/s289159/.conda/envs/audio-env/lib/python3.9/site-packages/tqdm/auto.py:22: TqdmWarning: IProgress not found. Please update jupyter and ipywidgets. See https://ipywidgets.readthedocs.io/en/stable/user_install.html\n",
      "  from .autonotebook import tqdm as notebook_tqdm\n",
      "Using custom data configuration default\n",
      "Reusing dataset ag_news (/home/students/s289159/.cache/huggingface/datasets/ag_news/default/0.0.0/bc2bcb40336ace1a0374767fc29bb0296cdaf8a6da7298436239c54d79180548)\n",
      "100%|██████████| 2/2 [00:00<00:00, 330.89it/s]\n"
     ]
    }
   ],
   "source": [
    "from datasets import load_dataset\n",
    "\n",
    "dataset = load_dataset(\"ag_news\")"
   ]
  },
  {
   "cell_type": "code",
   "execution_count": 2,
   "id": "3a736778-9af2-4725-a693-eb3b9983c273",
   "metadata": {},
   "outputs": [
    {
     "data": {
      "text/plain": [
       "DatasetDict({\n",
       "    train: Dataset({\n",
       "        features: ['text', 'label'],\n",
       "        num_rows: 120000\n",
       "    })\n",
       "    test: Dataset({\n",
       "        features: ['text', 'label'],\n",
       "        num_rows: 7600\n",
       "    })\n",
       "})"
      ]
     },
     "execution_count": 2,
     "metadata": {},
     "output_type": "execute_result"
    }
   ],
   "source": [
    "dataset"
   ]
  },
  {
   "cell_type": "code",
   "execution_count": 3,
   "id": "ffeb0708-249a-4b63-b2f2-85ea988cd84a",
   "metadata": {},
   "outputs": [],
   "source": [
    "id2label = {'0': \"World\",\n",
    "            '1': \"Sports\",\n",
    "            '2': \"Business\",\n",
    "            '3': \"Sci/Tech\"}"
   ]
  },
  {
   "cell_type": "code",
   "execution_count": 4,
   "id": "bea943ef-0f9b-424a-8e7d-d15bd1fc38ca",
   "metadata": {},
   "outputs": [],
   "source": [
    "# Convert the dataset to a pandas DataFrame\n",
    "df_train = dataset['train'].to_pandas()\n",
    "\n",
    "df_test = dataset['test'].to_pandas()"
   ]
  },
  {
   "cell_type": "code",
   "execution_count": 5,
   "id": "660445ae-a80f-417f-a4bf-f9de7fa7eabc",
   "metadata": {},
   "outputs": [
    {
     "data": {
      "text/html": [
       "<div>\n",
       "<style scoped>\n",
       "    .dataframe tbody tr th:only-of-type {\n",
       "        vertical-align: middle;\n",
       "    }\n",
       "\n",
       "    .dataframe tbody tr th {\n",
       "        vertical-align: top;\n",
       "    }\n",
       "\n",
       "    .dataframe thead th {\n",
       "        text-align: right;\n",
       "    }\n",
       "</style>\n",
       "<table border=\"1\" class=\"dataframe\">\n",
       "  <thead>\n",
       "    <tr style=\"text-align: right;\">\n",
       "      <th></th>\n",
       "      <th>text</th>\n",
       "      <th>label</th>\n",
       "    </tr>\n",
       "  </thead>\n",
       "  <tbody>\n",
       "    <tr>\n",
       "      <th>0</th>\n",
       "      <td>Wall St. Bears Claw Back Into the Black (Reute...</td>\n",
       "      <td>2</td>\n",
       "    </tr>\n",
       "    <tr>\n",
       "      <th>1</th>\n",
       "      <td>Carlyle Looks Toward Commercial Aerospace (Reu...</td>\n",
       "      <td>2</td>\n",
       "    </tr>\n",
       "    <tr>\n",
       "      <th>2</th>\n",
       "      <td>Oil and Economy Cloud Stocks' Outlook (Reuters...</td>\n",
       "      <td>2</td>\n",
       "    </tr>\n",
       "    <tr>\n",
       "      <th>3</th>\n",
       "      <td>Iraq Halts Oil Exports from Main Southern Pipe...</td>\n",
       "      <td>2</td>\n",
       "    </tr>\n",
       "    <tr>\n",
       "      <th>4</th>\n",
       "      <td>Oil prices soar to all-time record, posing new...</td>\n",
       "      <td>2</td>\n",
       "    </tr>\n",
       "  </tbody>\n",
       "</table>\n",
       "</div>"
      ],
      "text/plain": [
       "                                                text  label\n",
       "0  Wall St. Bears Claw Back Into the Black (Reute...      2\n",
       "1  Carlyle Looks Toward Commercial Aerospace (Reu...      2\n",
       "2  Oil and Economy Cloud Stocks' Outlook (Reuters...      2\n",
       "3  Iraq Halts Oil Exports from Main Southern Pipe...      2\n",
       "4  Oil prices soar to all-time record, posing new...      2"
      ]
     },
     "execution_count": 5,
     "metadata": {},
     "output_type": "execute_result"
    }
   ],
   "source": [
    "df_train.head()"
   ]
  },
  {
   "cell_type": "code",
   "execution_count": 6,
   "id": "fbeef978-bb28-482a-9f41-ee5ac2b74b1c",
   "metadata": {},
   "outputs": [],
   "source": [
    "df_train_full = df_train.sample(frac=1).reset_index(drop=True)"
   ]
  },
  {
   "cell_type": "code",
   "execution_count": 7,
   "id": "e5a84b9d-71cb-4d5d-bdab-7cb5ab54dff2",
   "metadata": {},
   "outputs": [],
   "source": [
    "percentage = 0.66\n",
    "index_split = int(len(df_train_full)*percentage)\n",
    "\n",
    "df_train = df_train_full[:index_split]\n",
    "df_deg = df_train_full[index_split:]"
   ]
  },
  {
   "cell_type": "code",
   "execution_count": 8,
   "id": "d5325e8a-b36f-4d98-ae49-882056c70346",
   "metadata": {},
   "outputs": [
    {
     "data": {
      "text/plain": [
       "<AxesSubplot:title={'center':'Target Dristribution'}, ylabel='Frequency'>"
      ]
     },
     "execution_count": 8,
     "metadata": {},
     "output_type": "execute_result"
    },
    {
     "data": {
      "image/png": "[encoded data removed]",
      "text/plain": [
       "<Figure size 432x288 with 1 Axes>"
      ]
     },
     "metadata": {
      "needs_background": "light"
     },
     "output_type": "display_data"
    }
   ],
   "source": [
    "df_train.label.plot(kind='hist', title='Target Dristribution')"
   ]
  },
  {
   "cell_type": "code",
   "execution_count": 9,
   "id": "0c4702a6-cd21-40dd-bbd4-863761e13ee3",
   "metadata": {},
   "outputs": [
    {
     "data": {
      "text/plain": [
       "<AxesSubplot:title={'center':'Target Dristribution'}, ylabel='Frequency'>"
      ]
     },
     "execution_count": 9,
     "metadata": {},
     "output_type": "execute_result"
    },
    {
     "data": {
      "image/png": "[encoded data removed]",
      "text/plain": [
       "<Figure size 432x288 with 1 Axes>"
      ]
     },
     "metadata": {
      "needs_background": "light"
     },
     "output_type": "display_data"
    }
   ],
   "source": [
    "df_deg.label.plot(kind='hist', title='Target Dristribution')"
   ]
  },
  {
   "cell_type": "code",
   "execution_count": 10,
   "id": "7ce52b16-9d42-47fe-9a5f-77d2020178a3",
   "metadata": {},
   "outputs": [
    {
     "name": "stderr",
     "output_type": "stream",
     "text": [
      "/tmp/ipykernel_836512/3196163558.py:1: SettingWithCopyWarning: \n",
      "A value is trying to be set on a copy of a slice from a DataFrame.\n",
      "Try using .loc[row_indexer,col_indexer] = value instead\n",
      "\n",
      "See the caveats in the documentation: https://pandas.pydata.org/pandas-docs/stable/user_guide/indexing.html#returning-a-view-versus-a-copy\n",
      "  df_train['id'] = range(0, len(df_train))\n",
      "/tmp/ipykernel_836512/3196163558.py:2: SettingWithCopyWarning: \n",
      "A value is trying to be set on a copy of a slice from a DataFrame.\n",
      "Try using .loc[row_indexer,col_indexer] = value instead\n",
      "\n",
      "See the caveats in the documentation: https://pandas.pydata.org/pandas-docs/stable/user_guide/indexing.html#returning-a-view-versus-a-copy\n",
      "  df_deg['id'] = range(len(df_train),len(df_train)+len(df_deg) )\n"
     ]
    }
   ],
   "source": [
    "df_train['id'] = range(0, len(df_train))\n",
    "df_deg['id'] = range(len(df_train),len(df_train)+len(df_deg) )\n",
    "df_test['id'] = range(len(df_deg)+len(df_train),len(df_train)+len(df_deg)+len(df_test))"
   ]
  },
  {
   "cell_type": "code",
   "execution_count": 11,
   "id": "da18c70e-2ddd-4c8d-97e0-1b6911535998",
   "metadata": {},
   "outputs": [
    {
     "data": {
      "text/html": [
       "<div>\n",
       "<style scoped>\n",
       "    .dataframe tbody tr th:only-of-type {\n",
       "        vertical-align: middle;\n",
       "    }\n",
       "\n",
       "    .dataframe tbody tr th {\n",
       "        vertical-align: top;\n",
       "    }\n",
       "\n",
       "    .dataframe thead th {\n",
       "        text-align: right;\n",
       "    }\n",
       "</style>\n",
       "<table border=\"1\" class=\"dataframe\">\n",
       "  <thead>\n",
       "    <tr style=\"text-align: right;\">\n",
       "      <th></th>\n",
       "      <th>text</th>\n",
       "      <th>label</th>\n",
       "      <th>id</th>\n",
       "    </tr>\n",
       "  </thead>\n",
       "  <tbody>\n",
       "    <tr>\n",
       "      <th>0</th>\n",
       "      <td>Colts, Vanderjagt save best for last Peyton Ma...</td>\n",
       "      <td>1</td>\n",
       "      <td>0</td>\n",
       "    </tr>\n",
       "    <tr>\n",
       "      <th>1</th>\n",
       "      <td>Saturn's Moon Titan: Planet Wannabe by Henry B...</td>\n",
       "      <td>3</td>\n",
       "      <td>1</td>\n",
       "    </tr>\n",
       "    <tr>\n",
       "      <th>2</th>\n",
       "      <td>Farooqi key link between Pakistan and al Qaeda...</td>\n",
       "      <td>0</td>\n",
       "      <td>2</td>\n",
       "    </tr>\n",
       "    <tr>\n",
       "      <th>3</th>\n",
       "      <td>California Calls the Shots California is enact...</td>\n",
       "      <td>2</td>\n",
       "      <td>3</td>\n",
       "    </tr>\n",
       "    <tr>\n",
       "      <th>4</th>\n",
       "      <td>iPod to go 80GB? Toshiba, whose tiny hard driv...</td>\n",
       "      <td>3</td>\n",
       "      <td>4</td>\n",
       "    </tr>\n",
       "  </tbody>\n",
       "</table>\n",
       "</div>"
      ],
      "text/plain": [
       "                                                text  label  id\n",
       "0  Colts, Vanderjagt save best for last Peyton Ma...      1   0\n",
       "1  Saturn's Moon Titan: Planet Wannabe by Henry B...      3   1\n",
       "2  Farooqi key link between Pakistan and al Qaeda...      0   2\n",
       "3  California Calls the Shots California is enact...      2   3\n",
       "4  iPod to go 80GB? Toshiba, whose tiny hard driv...      3   4"
      ]
     },
     "execution_count": 11,
     "metadata": {},
     "output_type": "execute_result"
    }
   ],
   "source": [
    "df_train.head()"
   ]
  },
  {
   "cell_type": "code",
   "execution_count": 12,
   "id": "68fb4e64-c558-4fce-af02-280b2a8cca72",
   "metadata": {},
   "outputs": [],
   "source": [
    "import re\n",
    "\n",
    "def clean_text(text):\n",
    "    text = re.sub(\"@\\S+\", \" \", text) # Remove Mentions\n",
    "    text = re.sub(\"https*\\S+\", \" \", text) # Remove URL\n",
    "    text = re.sub(\"#\\S+\", \" \", text) # Remove Hastags\n",
    "    text = re.sub('&lt;/?[a-z]+&gt;', '', text) # Remove special Charaters\n",
    "    text = re.sub('#39', ' ', text) # Remove special Charaters\n",
    "    text = re.sub('<.*?>', '', text) # Remove html\n",
    "    text = re.sub(' +', ' ', text) # Merge multiple blank spaces\n",
    "    return text\n",
    "\n",
    "def get_label_name(label_id):\n",
    "    labels = [\"World\", \"Sports\", \"Business\", \"Sci/Tech\"]\n",
    "    return labels[label_id]"
   ]
  },
  {
   "cell_type": "code",
   "execution_count": 13,
   "id": "b16600a1-c232-403a-a566-0b24bd526ad0",
   "metadata": {},
   "outputs": [],
   "source": [
    "df_train_cleaned = df_train.copy()\n",
    "df_deg_cleaned = df_deg.copy()\n",
    "df_test_cleaned = df_test.copy()\n",
    "\n",
    "df_train_cleaned[\"text\"] = df_train_cleaned[\"text\"].apply(clean_text)\n",
    "df_deg_cleaned[\"text\"] = df_deg_cleaned[\"text\"].apply(clean_text)\n",
    "df_test_cleaned[\"text\" ]= df_test_cleaned[\"text\"].apply(clean_text)"
   ]
  },
  {
   "cell_type": "code",
   "execution_count": 14,
   "id": "175fbf9e-152b-48e7-bdc3-05ffbbecedd7",
   "metadata": {},
   "outputs": [],
   "source": [
    "import numpy as np\n",
    "\n",
    "df_train_cleaned['text'].replace('', np.nan, inplace=True)\n",
    "df_deg_cleaned['text'].replace('', np.nan, inplace=True)\n",
    "df_test_cleaned['text'].replace('', np.nan, inplace=True)\n",
    "\n",
    "df_train_cleaned.dropna(subset=['text'], inplace=True)\n",
    "df_deg_cleaned.dropna(subset=['text'], inplace=True)\n",
    "df_test_cleaned.dropna(subset=['text'], inplace=True)\n",
    "\n",
    "df_train_cleaned = df_train_cleaned.drop(df_train_cleaned[df_train_cleaned.text.str.isspace()].index)\n",
    "df_deg_cleaned = df_deg_cleaned.drop(df_deg_cleaned[df_deg_cleaned.text.str.isspace()].index)\n",
    "df_test_cleaned = df_test_cleaned.drop(df_test_cleaned[df_test_cleaned.text.str.isspace()].index)\n",
    "\n",
    "df_train_cleaned = df_train_cleaned.drop(df_train_cleaned[df_train_cleaned.text == \"\"].index)\n",
    "df_deg_cleaned = df_deg_cleaned.drop(df_deg_cleaned[df_deg_cleaned.text == \"\"].index)\n",
    "df_test_cleaned = df_test_cleaned.drop(df_test_cleaned[df_test_cleaned.text == \"\"].index)"
   ]
  },
  {
   "cell_type": "code",
   "execution_count": 15,
   "id": "2c4763bb-ef23-4ce8-98a5-b585cf91c7e3",
   "metadata": {},
   "outputs": [],
   "source": [
    "label_list = [0, 1, 2, 3]\n",
    "training_label_list = [0, 1, 2]\n",
    "drift_label_list = [3]"
   ]
  },
  {
   "cell_type": "code",
   "execution_count": 16,
   "id": "52e85351-8185-4e0f-a89c-519c74e0748c",
   "metadata": {},
   "outputs": [],
   "source": [
    "df_train_filtered = df_train_cleaned.loc[df_train_cleaned['label'].isin(training_label_list)]\n",
    "df_train_drifted = df_train_cleaned.loc[df_train_cleaned['label'].isin(drift_label_list)]\n",
    "\n",
    "df_test_filtered = df_test_cleaned.loc[df_test_cleaned['label'].isin(training_label_list)]\n",
    "df_test_drifted = df_test_cleaned.loc[df_test_cleaned['label'].isin(drift_label_list)]\n",
    "\n",
    "df_deg_filtered = df_deg_cleaned.loc[df_deg_cleaned['label'].isin(training_label_list)]\n",
    "df_deg_drifted = df_deg_cleaned.loc[df_deg_cleaned['label'].isin(drift_label_list)]"
   ]
  },
  {
   "cell_type": "code",
   "execution_count": 17,
   "id": "83915c71-a400-4cf9-a6ed-5c1d0290a01e",
   "metadata": {},
   "outputs": [
    {
     "data": {
      "text/plain": [
       "<AxesSubplot:>"
      ]
     },
     "execution_count": 17,
     "metadata": {},
     "output_type": "execute_result"
    },
    {
     "data": {
      "image/png": "[encoded data removed]",
      "text/plain": [
       "<Figure size 432x288 with 1 Axes>"
      ]
     },
     "metadata": {
      "needs_background": "light"
     },
     "output_type": "display_data"
    }
   ],
   "source": [
    "df_train_filtered['label'].value_counts(sort=True).plot.bar()"
   ]
  },
  {
   "cell_type": "code",
   "execution_count": 18,
   "id": "e8ec8233-fe1a-4ae5-9388-e26e92ae9f96",
   "metadata": {},
   "outputs": [
    {
     "data": {
      "text/plain": [
       "(59480, 3)"
      ]
     },
     "execution_count": 18,
     "metadata": {},
     "output_type": "execute_result"
    }
   ],
   "source": [
    "df_train_filtered.shape"
   ]
  },
  {
   "cell_type": "code",
   "execution_count": 19,
   "id": "0de1acfd-1120-41a1-aca9-ffdb67555db3",
   "metadata": {},
   "outputs": [
    {
     "data": {
      "text/plain": [
       "<AxesSubplot:>"
      ]
     },
     "execution_count": 19,
     "metadata": {},
     "output_type": "execute_result"
    },
    {
     "data": {
      "image/png": "[encoded data removed]",
      "text/plain": [
       "<Figure size 432x288 with 1 Axes>"
      ]
     },
     "metadata": {
      "needs_background": "light"
     },
     "output_type": "display_data"
    }
   ],
   "source": [
    "df_test_drifted['label'].value_counts(sort=True).plot.bar()"
   ]
  },
  {
   "cell_type": "code",
   "execution_count": 20,
   "id": "ec6af545-d472-4d59-8e02-4f6b5943f0f5",
   "metadata": {},
   "outputs": [
    {
     "data": {
      "text/plain": [
       "<AxesSubplot:>"
      ]
     },
     "execution_count": 20,
     "metadata": {},
     "output_type": "execute_result"
    },
    {
     "data": {
      "image/png": "[encoded data removed]",
      "text/plain": [
       "<Figure size 432x288 with 1 Axes>"
      ]
     },
     "metadata": {
      "needs_background": "light"
     },
     "output_type": "display_data"
    }
   ],
   "source": [
    "df_test_filtered['label'].value_counts(sort=True).plot.bar()"
   ]
  },
  {
   "cell_type": "code",
   "execution_count": 21,
   "id": "fc9ce135-3948-4a5d-ba0f-813a87ed5646",
   "metadata": {},
   "outputs": [],
   "source": [
    "import pandas as pd\n",
    "df_drifted = pd.concat([df_train_drifted, df_test_drifted, df_deg_drifted])\n",
    "df_new_unseen = df_deg_filtered.copy()"
   ]
  },
  {
   "cell_type": "code",
   "execution_count": 22,
   "id": "ecd33021-d1f1-40fc-ae77-ac0e77e34fc9",
   "metadata": {},
   "outputs": [
    {
     "data": {
      "text/plain": [
       "<AxesSubplot:>"
      ]
     },
     "execution_count": 22,
     "metadata": {},
     "output_type": "execute_result"
    },
    {
     "data": {
      "image/png": "[encoded data removed]",
      "text/plain": [
       "<Figure size 432x288 with 1 Axes>"
      ]
     },
     "metadata": {
      "needs_background": "light"
     },
     "output_type": "display_data"
    }
   ],
   "source": [
    "df_new_unseen['label'].value_counts(sort=True).plot.bar()"
   ]
  },
  {
   "cell_type": "code",
   "execution_count": 23,
   "id": "49752fb0-c613-46d3-af0d-da22edf50c85",
   "metadata": {},
   "outputs": [
    {
     "data": {
      "text/plain": [
       "(30520, 3)"
      ]
     },
     "execution_count": 23,
     "metadata": {},
     "output_type": "execute_result"
    }
   ],
   "source": [
    "df_new_unseen.shape"
   ]
  },
  {
   "cell_type": "code",
   "execution_count": 24,
   "id": "9f8e9706-244a-47be-8946-0a2fd32965c7",
   "metadata": {},
   "outputs": [
    {
     "data": {
      "text/plain": [
       "<AxesSubplot:>"
      ]
     },
     "execution_count": 24,
     "metadata": {},
     "output_type": "execute_result"
    },
    {
     "data": {
      "image/png": "[encoded data removed]",
      "text/plain": [
       "<Figure size 432x288 with 1 Axes>"
      ]
     },
     "metadata": {
      "needs_background": "light"
     },
     "output_type": "display_data"
    }
   ],
   "source": [
    "df_drifted['label'].value_counts(sort=True).plot.bar()"
   ]
  },
  {
   "cell_type": "code",
   "execution_count": 25,
   "id": "d431a535-67a3-4ab4-a0a2-70e4a0cb14a2",
   "metadata": {},
   "outputs": [
    {
     "data": {
      "text/plain": [
       "(31900, 3)"
      ]
     },
     "execution_count": 25,
     "metadata": {},
     "output_type": "execute_result"
    }
   ],
   "source": [
    "df_drifted.shape"
   ]
  },
  {
   "cell_type": "code",
   "execution_count": 26,
   "id": "acce3a28-5c0c-4317-a76c-1c16e1dc1c0a",
   "metadata": {},
   "outputs": [],
   "source": [
    "import os\n",
    "\n",
    "data_dir = \"static/data/bert\"\n",
    "\n",
    "df_train_filtered.to_csv(os.path.join(data_dir,\"df_train_0_1_2.csv\"))\n",
    "df_test_filtered.to_csv(os.path.join(data_dir,\"df_test_0_1_2.csv\"))\n",
    "df_new_unseen.to_csv(os.path.join(data_dir,\"df_new_unseen_0_1_2.csv\"))\n",
    "df_drifted.to_csv(os.path.join(data_dir,\"df_drifted_3.csv\"))"
   ]
  },
  {
   "cell_type": "code",
   "execution_count": 27,
   "id": "5ccc7d1f-bff2-4e5c-bab3-cd251b35f074",
   "metadata": {},
   "outputs": [
    {
     "name": "stdout",
     "output_type": "stream",
     "text": [
      "(59480, 3)\n",
      "(5700, 3)\n",
      "(30520, 3)\n"
     ]
    }
   ],
   "source": [
    "print(df_train_filtered.shape)\n",
    "print(df_test_filtered.shape)\n",
    "print(df_new_unseen.shape)\n"
   ]
  },
  {
   "cell_type": "code",
   "execution_count": 1,
   "id": "68578290-ad25-4120-9644-eb07a6d0b12b",
   "metadata": {},
   "outputs": [],
   "source": [
    "model_name = \"bert-base-uncased\""
   ]
  },
  {
   "cell_type": "code",
   "execution_count": 29,
   "id": "0dbe4ed3-dad6-4758-8933-bf0f44c4d8ab",
   "metadata": {},
   "outputs": [],
   "source": [
    "import datasets\n",
    "from datasets import Dataset, DatasetDict\n",
    "\n",
    "\n",
    "train_dataset = Dataset.from_pandas(df_train_filtered)\n",
    "validation_dataset = Dataset.from_pandas(df_test_filtered)\n",
    "\n",
    "\n",
    "ds = DatasetDict()\n",
    "\n",
    "ds['train'] = train_dataset.shuffle()\n",
    "ds['validation'] = validation_dataset.shuffle()"
   ]
  },
  {
   "cell_type": "code",
   "execution_count": 2,
   "id": "28dd6c89-7d52-4c7a-9f47-0caa2203981b",
   "metadata": {},
   "outputs": [
    {
     "name": "stderr",
     "output_type": "stream",
     "text": [
      "/home/students/s289159/.conda/envs/airbnb-XAI-env/lib/python3.10/site-packages/tqdm/auto.py:22: TqdmWarning: IProgress not found. Please update jupyter and ipywidgets. See https://ipywidgets.readthedocs.io/en/stable/user_install.html\n",
      "  from .autonotebook import tqdm as notebook_tqdm\n"
     ]
    }
   ],
   "source": [
    "from transformers import AutoTokenizer\n",
    "\n",
    "tokenizer = AutoTokenizer.from_pretrained(model_name, do_lower_case=True)\n"
   ]
  },
  {
   "cell_type": "code",
   "execution_count": 31,
   "id": "a344b6b0-a510-45a1-a565-e2e177179fd7",
   "metadata": {},
   "outputs": [
    {
     "name": "stderr",
     "output_type": "stream",
     "text": [
      "100%|██████████| 60/60 [00:12<00:00,  4.82ba/s]\n",
      "100%|██████████| 6/6 [00:01<00:00,  5.59ba/s]\n"
     ]
    }
   ],
   "source": [
    "def tokenize_function(examples):\n",
    "    return tokenizer(examples[\"text\"], padding=\"max_length\", truncation=True)\n",
    "\n",
    "\n",
    "tokenized_datasets = ds.map(tokenize_function, batched=True)"
   ]
  },
  {
   "cell_type": "code",
   "execution_count": 32,
   "id": "5284a276-c389-4f39-ae02-2b4132707443",
   "metadata": {},
   "outputs": [],
   "source": [
    "label2id_train = {\"World\": 0,\n",
    "                  \"Sports\": 1,\n",
    "                  \"Business\": 2}"
   ]
  },
  {
   "cell_type": "code",
   "execution_count": 33,
   "id": "4f7b525e-199f-4f8e-89bf-93ceea1535b0",
   "metadata": {},
   "outputs": [
    {
     "name": "stderr",
     "output_type": "stream",
     "text": [
      "Some weights of the model checkpoint at bert-base-uncased were not used when initializing BertForSequenceClassification: ['cls.predictions.transform.dense.weight', 'cls.predictions.transform.LayerNorm.bias', 'cls.predictions.bias', 'cls.predictions.transform.LayerNorm.weight', 'cls.seq_relationship.weight', 'cls.seq_relationship.bias', 'cls.predictions.decoder.weight', 'cls.predictions.transform.dense.bias']\n",
      "- This IS expected if you are initializing BertForSequenceClassification from the checkpoint of a model trained on another task or with another architecture (e.g. initializing a BertForSequenceClassification model from a BertForPreTraining model).\n",
      "- This IS NOT expected if you are initializing BertForSequenceClassification from the checkpoint of a model that you expect to be exactly identical (initializing a BertForSequenceClassification model from a BertForSequenceClassification model).\n",
      "Some weights of BertForSequenceClassification were not initialized from the model checkpoint at bert-base-uncased and are newly initialized: ['classifier.bias', 'classifier.weight']\n",
      "You should probably TRAIN this model on a down-stream task to be able to use it for predictions and inference.\n"
     ]
    }
   ],
   "source": [
    "from transformers import AutoModelForSequenceClassification\n",
    "\n",
    "model = AutoModelForSequenceClassification.from_pretrained(model_name, \n",
    "                                                           num_labels=len(training_label_list),\n",
    "                                                           label2id=label2id_train,\n",
    "                                                           id2label={id: label for label, id in label2id_train.items()})"
   ]
  },
  {
   "cell_type": "code",
   "execution_count": 34,
   "id": "89990229-9392-47aa-ba33-a992ee5d4c18",
   "metadata": {},
   "outputs": [],
   "source": [
    "import sklearn\n",
    "\n",
    "def compute_metrics(pred):\n",
    "    labels = pred.label_ids\n",
    "    print(pred)\n",
    "    try:\n",
    "        preds = pred.predictions.argmax(-1)\n",
    "    except:\n",
    "        preds = pred.predictions[0].argmax(-1)\n",
    "    precision, recall, f1, _ = sklearn.metrics.precision_recall_fscore_support(\n",
    "        labels, preds, average=\"macro\", labels=list(set(labels))\n",
    "    )\n",
    "    print(sklearn.metrics.classification_report(labels, preds, digits=4))\n",
    "    acc = sklearn.metrics.accuracy_score(labels, preds)\n",
    "    return {\"accuracy\": acc, \"f1\": f1, \"precision\": precision, \"recall\": recall}"
   ]
  },
  {
   "cell_type": "code",
   "execution_count": 35,
   "id": "42bd6406-e66f-469e-a6bd-fcbae7e817f6",
   "metadata": {},
   "outputs": [],
   "source": [
    "from transformers import TrainingArguments\n",
    "\n",
    "model_dir = \"static/saved_models/bert\"\n",
    "\n",
    "training_args = TrainingArguments(\n",
    "    output_dir=os.path.join(model_dir, \"checkpoint\"),\n",
    "    learning_rate=2e-5,\n",
    "    num_train_epochs=3,\n",
    "    per_device_train_batch_size=16,\n",
    "    per_device_eval_batch_size=16,\n",
    "    weight_decay=0.01,\n",
    "    evaluation_strategy=\"epoch\",\n",
    "    save_strategy=\"epoch\",\n",
    "    metric_for_best_model=\"f1\",\n",
    "    load_best_model_at_end=True,\n",
    "    greater_is_better=True,\n",
    ")"
   ]
  },
  {
   "cell_type": "code",
   "execution_count": 36,
   "id": "9d1597ab-aec4-4610-854e-0856f69bdfdb",
   "metadata": {},
   "outputs": [
    {
     "data": {
      "text/plain": [
       "DatasetDict({\n",
       "    train: Dataset({\n",
       "        features: ['text', 'label', 'id', '__index_level_0__', 'input_ids', 'token_type_ids', 'attention_mask'],\n",
       "        num_rows: 59480\n",
       "    })\n",
       "    validation: Dataset({\n",
       "        features: ['text', 'label', 'id', '__index_level_0__', 'input_ids', 'token_type_ids', 'attention_mask'],\n",
       "        num_rows: 5700\n",
       "    })\n",
       "})"
      ]
     },
     "execution_count": 36,
     "metadata": {},
     "output_type": "execute_result"
    }
   ],
   "source": [
    "tokenized_datasets"
   ]
  },
  {
   "cell_type": "code",
   "execution_count": 37,
   "id": "b5ae9d65-2f98-4b15-a4e9-804855dafcc9",
   "metadata": {},
   "outputs": [],
   "source": [
    "from transformers import Trainer\n",
    "\n",
    "trainer = Trainer(\n",
    "    model=model,\n",
    "    args=training_args,\n",
    "    train_dataset=tokenized_datasets[\"train\"],\n",
    "    eval_dataset=tokenized_datasets[\"validation\"],\n",
    "    tokenizer=tokenizer,\n",
    "    compute_metrics=compute_metrics,\n",
    ")"
   ]
  },
  {
   "cell_type": "code",
   "execution_count": 38,
   "id": "1a7ade0a-cf33-4360-9433-90e1925be702",
   "metadata": {},
   "outputs": [
    {
     "name": "stderr",
     "output_type": "stream",
     "text": [
      "The following columns in the training set don't have a corresponding argument in `BertForSequenceClassification.forward` and have been ignored: id, __index_level_0__, text. If id, __index_level_0__, text are not expected by `BertForSequenceClassification.forward`,  you can safely ignore this message.\n",
      "/home/students/s289159/.conda/envs/audio-env/lib/python3.9/site-packages/transformers/optimization.py:306: FutureWarning: This implementation of AdamW is deprecated and will be removed in a future version. Use the PyTorch implementation torch.optim.AdamW instead, or set `no_deprecation_warning=True` to disable this warning\n",
      "  warnings.warn(\n",
      "***** Running training *****\n",
      "  Num examples = 59480\n",
      "  Num Epochs = 3\n",
      "  Instantaneous batch size per device = 16\n",
      "  Total train batch size (w. parallel, distributed & accumulation) = 16\n",
      "  Gradient Accumulation steps = 1\n",
      "  Total optimization steps = 11154\n"
     ]
    },
    {
     "data": {
      "text/html": [
       "\n",
       "    <div>\n",
       "      \n",
       "      <progress value='11154' max='11154' style='width:300px; height:20px; vertical-align: middle;'></progress>\n",
       "      [11154/11154 1:38:09, Epoch 3/3]\n",
       "    </div>\n",
       "    <table border=\"1\" class=\"dataframe\">\n",
       "  <thead>\n",
       " <tr style=\"text-align: left;\">\n",
       "      <th>Epoch</th>\n",
       "      <th>Training Loss</th>\n",
       "      <th>Validation Loss</th>\n",
       "      <th>Accuracy</th>\n",
       "      <th>F1</th>\n",
       "      <th>Precision</th>\n",
       "      <th>Recall</th>\n",
       "    </tr>\n",
       "  </thead>\n",
       "  <tbody>\n",
       "    <tr>\n",
       "      <td>1</td>\n",
       "      <td>0.105100</td>\n",
       "      <td>0.106293</td>\n",
       "      <td>0.973684</td>\n",
       "      <td>0.973677</td>\n",
       "      <td>0.973710</td>\n",
       "      <td>0.973684</td>\n",
       "    </tr>\n",
       "    <tr>\n",
       "      <td>2</td>\n",
       "      <td>0.069500</td>\n",
       "      <td>0.102683</td>\n",
       "      <td>0.975439</td>\n",
       "      <td>0.975456</td>\n",
       "      <td>0.975486</td>\n",
       "      <td>0.975439</td>\n",
       "    </tr>\n",
       "    <tr>\n",
       "      <td>3</td>\n",
       "      <td>0.040600</td>\n",
       "      <td>0.123629</td>\n",
       "      <td>0.975439</td>\n",
       "      <td>0.975437</td>\n",
       "      <td>0.975435</td>\n",
       "      <td>0.975439</td>\n",
       "    </tr>\n",
       "  </tbody>\n",
       "</table><p>"
      ],
      "text/plain": [
       "<IPython.core.display.HTML object>"
      ]
     },
     "metadata": {},
     "output_type": "display_data"
    },
    {
     "name": "stderr",
     "output_type": "stream",
     "text": [
      "The following columns in the evaluation set don't have a corresponding argument in `BertForSequenceClassification.forward` and have been ignored: id, __index_level_0__, text. If id, __index_level_0__, text are not expected by `BertForSequenceClassification.forward`,  you can safely ignore this message.\n",
      "***** Running Evaluation *****\n",
      "  Num examples = 5700\n",
      "  Batch size = 16\n"
     ]
    },
    {
     "name": "stdout",
     "output_type": "stream",
     "text": [
      "<transformers.trainer_utils.EvalPrediction object at 0x7f00f5cced30>\n",
      "              precision    recall  f1-score   support\n",
      "\n",
      "           0     0.9614    0.9711    0.9662      1900\n",
      "           1     0.9874    0.9895    0.9884      1900\n",
      "           2     0.9723    0.9605    0.9664      1900\n",
      "\n",
      "    accuracy                         0.9737      5700\n",
      "   macro avg     0.9737    0.9737    0.9737      5700\n",
      "weighted avg     0.9737    0.9737    0.9737      5700\n",
      "\n"
     ]
    },
    {
     "name": "stderr",
     "output_type": "stream",
     "text": [
      "Saving model checkpoint to use_case/hf-bert-ag_news-0-1-2-split66/saved_model/checkpoint/checkpoint-3718\n",
      "Configuration saved in use_case/hf-bert-ag_news-0-1-2-split66/saved_model/checkpoint/checkpoint-3718/config.json\n",
      "Model weights saved in use_case/hf-bert-ag_news-0-1-2-split66/saved_model/checkpoint/checkpoint-3718/pytorch_model.bin\n",
      "tokenizer config file saved in use_case/hf-bert-ag_news-0-1-2-split66/saved_model/checkpoint/checkpoint-3718/tokenizer_config.json\n",
      "Special tokens file saved in use_case/hf-bert-ag_news-0-1-2-split66/saved_model/checkpoint/checkpoint-3718/special_tokens_map.json\n",
      "The following columns in the evaluation set don't have a corresponding argument in `BertForSequenceClassification.forward` and have been ignored: id, __index_level_0__, text. If id, __index_level_0__, text are not expected by `BertForSequenceClassification.forward`,  you can safely ignore this message.\n",
      "***** Running Evaluation *****\n",
      "  Num examples = 5700\n",
      "  Batch size = 16\n"
     ]
    },
    {
     "name": "stdout",
     "output_type": "stream",
     "text": [
      "<transformers.trainer_utils.EvalPrediction object at 0x7f00f5ce0280>\n",
      "              precision    recall  f1-score   support\n",
      "\n",
      "           0     0.9679    0.9668    0.9674      1900\n",
      "           1     0.9915    0.9858    0.9887      1900\n",
      "           2     0.9671    0.9737    0.9704      1900\n",
      "\n",
      "    accuracy                         0.9754      5700\n",
      "   macro avg     0.9755    0.9754    0.9755      5700\n",
      "weighted avg     0.9755    0.9754    0.9755      5700\n",
      "\n"
     ]
    },
    {
     "name": "stderr",
     "output_type": "stream",
     "text": [
      "Saving model checkpoint to use_case/hf-bert-ag_news-0-1-2-split66/saved_model/checkpoint/checkpoint-7436\n",
      "Configuration saved in use_case/hf-bert-ag_news-0-1-2-split66/saved_model/checkpoint/checkpoint-7436/config.json\n",
      "Model weights saved in use_case/hf-bert-ag_news-0-1-2-split66/saved_model/checkpoint/checkpoint-7436/pytorch_model.bin\n",
      "tokenizer config file saved in use_case/hf-bert-ag_news-0-1-2-split66/saved_model/checkpoint/checkpoint-7436/tokenizer_config.json\n",
      "Special tokens file saved in use_case/hf-bert-ag_news-0-1-2-split66/saved_model/checkpoint/checkpoint-7436/special_tokens_map.json\n",
      "The following columns in the evaluation set don't have a corresponding argument in `BertForSequenceClassification.forward` and have been ignored: id, __index_level_0__, text. If id, __index_level_0__, text are not expected by `BertForSequenceClassification.forward`,  you can safely ignore this message.\n",
      "***** Running Evaluation *****\n",
      "  Num examples = 5700\n",
      "  Batch size = 16\n"
     ]
    },
    {
     "name": "stdout",
     "output_type": "stream",
     "text": [
      "<transformers.trainer_utils.EvalPrediction object at 0x7f00f749be50>\n",
      "              precision    recall  f1-score   support\n",
      "\n",
      "           0     0.9679    0.9679    0.9679      1900\n",
      "           1     0.9884    0.9889    0.9887      1900\n",
      "           2     0.9700    0.9695    0.9697      1900\n",
      "\n",
      "    accuracy                         0.9754      5700\n",
      "   macro avg     0.9754    0.9754    0.9754      5700\n",
      "weighted avg     0.9754    0.9754    0.9754      5700\n",
      "\n"
     ]
    },
    {
     "name": "stderr",
     "output_type": "stream",
     "text": [
      "Saving model checkpoint to use_case/hf-bert-ag_news-0-1-2-split66/saved_model/checkpoint/checkpoint-11154\n",
      "Configuration saved in use_case/hf-bert-ag_news-0-1-2-split66/saved_model/checkpoint/checkpoint-11154/config.json\n",
      "Model weights saved in use_case/hf-bert-ag_news-0-1-2-split66/saved_model/checkpoint/checkpoint-11154/pytorch_model.bin\n",
      "tokenizer config file saved in use_case/hf-bert-ag_news-0-1-2-split66/saved_model/checkpoint/checkpoint-11154/tokenizer_config.json\n",
      "Special tokens file saved in use_case/hf-bert-ag_news-0-1-2-split66/saved_model/checkpoint/checkpoint-11154/special_tokens_map.json\n",
      "\n",
      "\n",
      "Training completed. Do not forget to share your model on huggingface.co/models =)\n",
      "\n",
      "\n",
      "Loading best model from use_case/hf-bert-ag_news-0-1-2-split66/saved_model/checkpoint/checkpoint-7436 (score: 0.9754557130153986).\n"
     ]
    },
    {
     "data": {
      "text/plain": [
       "TrainOutput(global_step=11154, training_loss=0.07929810567934154, metrics={'train_runtime': 5890.0986, 'train_samples_per_second': 30.295, 'train_steps_per_second': 1.894, 'total_flos': 4.694995825938432e+16, 'train_loss': 0.07929810567934154, 'epoch': 3.0})"
      ]
     },
     "execution_count": 38,
     "metadata": {},
     "output_type": "execute_result"
    }
   ],
   "source": [
    "trainer.train()"
   ]
  },
  {
   "cell_type": "code",
   "execution_count": 39,
   "id": "2dc31fa1-6269-411b-8424-6a00e7207a41",
   "metadata": {},
   "outputs": [
    {
     "name": "stderr",
     "output_type": "stream",
     "text": [
      "Saving model checkpoint to use_case/hf-bert-ag_news-0-1-2-split66/saved_model/best_model\n",
      "Configuration saved in use_case/hf-bert-ag_news-0-1-2-split66/saved_model/best_model/config.json\n",
      "Model weights saved in use_case/hf-bert-ag_news-0-1-2-split66/saved_model/best_model/pytorch_model.bin\n",
      "tokenizer config file saved in use_case/hf-bert-ag_news-0-1-2-split66/saved_model/best_model/tokenizer_config.json\n",
      "Special tokens file saved in use_case/hf-bert-ag_news-0-1-2-split66/saved_model/best_model/special_tokens_map.json\n"
     ]
    }
   ],
   "source": [
    "trainer.save_model(os.path.join(model_dir, \"best_model\"))"
   ]
  },
  {
   "cell_type": "code",
   "execution_count": 40,
   "id": "b043c8c2-f3a3-478c-bf33-51ff7858c808",
   "metadata": {},
   "outputs": [
    {
     "name": "stderr",
     "output_type": "stream",
     "text": [
      "The following columns in the evaluation set don't have a corresponding argument in `BertForSequenceClassification.forward` and have been ignored: id, __index_level_0__, text. If id, __index_level_0__, text are not expected by `BertForSequenceClassification.forward`,  you can safely ignore this message.\n",
      "***** Running Evaluation *****\n",
      "  Num examples = 5700\n",
      "  Batch size = 16\n"
     ]
    },
    {
     "name": "stdout",
     "output_type": "stream",
     "text": [
      "\n",
      " ----------------- EVALUATION BEST MODEL ON VALIDATION SET ----------------- \n",
      "\n"
     ]
    },
    {
     "data": {
      "text/html": [
       "\n",
       "    <div>\n",
       "      \n",
       "      <progress value='357' max='357' style='width:300px; height:20px; vertical-align: middle;'></progress>\n",
       "      [357/357 01:01]\n",
       "    </div>\n",
       "    "
      ],
      "text/plain": [
       "<IPython.core.display.HTML object>"
      ]
     },
     "metadata": {},
     "output_type": "display_data"
    },
    {
     "name": "stdout",
     "output_type": "stream",
     "text": [
      "<transformers.trainer_utils.EvalPrediction object at 0x7f00f5d23dc0>\n",
      "              precision    recall  f1-score   support\n",
      "\n",
      "           0     0.9679    0.9668    0.9674      1900\n",
      "           1     0.9915    0.9858    0.9887      1900\n",
      "           2     0.9671    0.9737    0.9704      1900\n",
      "\n",
      "    accuracy                         0.9754      5700\n",
      "   macro avg     0.9755    0.9754    0.9755      5700\n",
      "weighted avg     0.9755    0.9754    0.9755      5700\n",
      "\n",
      "{'eval_loss': 0.10268290340900421, 'eval_accuracy': 0.9754385964912281, 'eval_f1': 0.9754557130153986, 'eval_precision': 0.9754860831910408, 'eval_recall': 0.9754385964912281, 'eval_runtime': 62.007, 'eval_samples_per_second': 91.925, 'eval_steps_per_second': 5.757, 'epoch': 3.0}\n"
     ]
    }
   ],
   "source": [
    "print(\n",
    "    \"\\n ----------------- EVALUATION BEST MODEL ON VALIDATION SET ----------------- \\n\"\n",
    ")\n",
    "print(trainer.evaluate())"
   ]
  },
  {
   "cell_type": "code",
   "execution_count": null,
   "id": "dedb9690-9489-4c7c-bd3a-d4ff1e5a2ccb",
   "metadata": {},
   "outputs": [],
   "source": []
  }
 ],
 "metadata": {
  "kernelspec": {
   "display_name": "airbnb-XAI-env",
   "language": "python",
   "name": "airbnb-xai-env"
  },
  "language_info": {
   "codemirror_mode": {
    "name": "ipython",
    "version": 3
   },
   "file_extension": ".py",
   "mimetype": "text/x-python",
   "name": "python",
   "nbconvert_exporter": "python",
   "pygments_lexer": "ipython3",
   "version": "3.10.4"
  }
 },
 "nbformat": 4,
 "nbformat_minor": 5
}