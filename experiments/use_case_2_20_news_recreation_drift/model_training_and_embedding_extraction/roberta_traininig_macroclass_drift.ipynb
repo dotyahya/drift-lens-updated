{
 "cells": [
  {
   "cell_type": "code",
   "execution_count": 1,
   "id": "1645eccf-f117-4e06-8308-6283afd4f611",
   "metadata": {},
   "outputs": [
    {
     "name": "stderr",
     "output_type": "stream",
     "text": [
      "/home/students/s289159/.conda/envs/airbnb-XAI-env/lib/python3.10/site-packages/tqdm/auto.py:22: TqdmWarning: IProgress not found. Please update jupyter and ipywidgets. See https://ipywidgets.readthedocs.io/en/stable/user_install.html\n",
      "  from .autonotebook import tqdm as notebook_tqdm\n",
      "Found cached dataset csv (/home/students/s289159/.cache/huggingface/datasets/rungalileo___csv/rungalileo--20_Newsgroups_Fixed-edf414ecc72dd622/0.0.0/6954658bab30a358235fa864b05cf819af0e179325c740e4bc853bcc7ec513e1)\n",
      "100%|██████████| 2/2 [00:00<00:00,  6.89it/s]\n"
     ]
    }
   ],
   "source": [
    "from datasets import load_dataset\n",
    "\n",
    "dataset = load_dataset(\"rungalileo/20_Newsgroups_Fixed\")"
   ]
  },
  {
   "cell_type": "code",
   "execution_count": 2,
   "id": "23ee4595-4002-4321-b03a-c3847b03aac0",
   "metadata": {},
   "outputs": [],
   "source": [
    "import pandas as pd"
   ]
  },
  {
   "cell_type": "code",
   "execution_count": 3,
   "id": "3a736778-9af2-4725-a693-eb3b9983c273",
   "metadata": {},
   "outputs": [
    {
     "data": {
      "text/plain": [
       "DatasetDict({\n",
       "    train: Dataset({\n",
       "        features: ['id', 'text', 'label'],\n",
       "        num_rows: 11314\n",
       "    })\n",
       "    test: Dataset({\n",
       "        features: ['id', 'text', 'label'],\n",
       "        num_rows: 7532\n",
       "    })\n",
       "})"
      ]
     },
     "execution_count": 3,
     "metadata": {},
     "output_type": "execute_result"
    }
   ],
   "source": [
    "dataset"
   ]
  },
  {
   "cell_type": "code",
   "execution_count": 4,
   "id": "ffeb0708-249a-4b63-b2f2-85ea988cd84a",
   "metadata": {},
   "outputs": [
    {
     "data": {
      "text/plain": [
       "{'id': 2, 'text': '\\nIn a word, yes.\\n', 'label': 'None'}"
      ]
     },
     "execution_count": 4,
     "metadata": {},
     "output_type": "execute_result"
    }
   ],
   "source": [
    "dataset[\"test\"][2]"
   ]
  },
  {
   "cell_type": "code",
   "execution_count": 5,
   "id": "348d8929-fc0c-4753-869d-8b633987c301",
   "metadata": {},
   "outputs": [
    {
     "name": "stdout",
     "output_type": "stream",
     "text": [
      "11314\n"
     ]
    }
   ],
   "source": [
    "print(len(dataset[\"train\"]))"
   ]
  },
  {
   "cell_type": "code",
   "execution_count": 6,
   "id": "11447ae3-a16a-4f3b-b1da-6a8b84adb6a1",
   "metadata": {},
   "outputs": [
    {
     "name": "stderr",
     "output_type": "stream",
     "text": [
      "Loading cached processed dataset at /home/students/s289159/.cache/huggingface/datasets/rungalileo___csv/rungalileo--20_Newsgroups_Fixed-edf414ecc72dd622/0.0.0/6954658bab30a358235fa864b05cf819af0e179325c740e4bc853bcc7ec513e1/cache-9840a671998db206.arrow\n",
      "Loading cached processed dataset at /home/students/s289159/.cache/huggingface/datasets/rungalileo___csv/rungalileo--20_Newsgroups_Fixed-edf414ecc72dd622/0.0.0/6954658bab30a358235fa864b05cf819af0e179325c740e4bc853bcc7ec513e1/cache-c5525844ffec7b74.arrow\n"
     ]
    },
    {
     "name": "stdout",
     "output_type": "stream",
     "text": [
      "Number of training examples before filtering 11314\n",
      "Number of training examples after filtering 10664\n",
      "Number of test examples before filtering 7532\n",
      "Number of test examples after filtering 7019\n"
     ]
    }
   ],
   "source": [
    "# remove all the samples belonging to the class \"None\"\n",
    "print(f'Number of training examples before filtering {len(dataset[\"train\"])}')\n",
    "dataset[\"train\"] = dataset[\"train\"].filter(lambda example: example[\"label\"] != \"None\")\n",
    "print(f'Number of training examples after filtering {len(dataset[\"train\"])}')\n",
    "\n",
    "print(f'Number of test examples before filtering {len(dataset[\"test\"])}')\n",
    "dataset[\"test\"] = dataset[\"test\"].filter(lambda example: example[\"label\"] != \"None\")\n",
    "print(f'Number of test examples after filtering {len(dataset[\"test\"])}')"
   ]
  },
  {
   "cell_type": "code",
   "execution_count": 7,
   "id": "c70a139b-87f8-4312-ac2f-3aae7299ce35",
   "metadata": {},
   "outputs": [
    {
     "data": {
      "text/plain": [
       "{'alt.atheism',\n",
       " 'comp.graphics',\n",
       " 'comp.os.ms-windows.misc',\n",
       " 'comp.sys.ibm.pc.hardware',\n",
       " 'comp.sys.mac.hardware',\n",
       " 'comp.windows.x',\n",
       " 'misc.forsale',\n",
       " 'rec.autos',\n",
       " 'rec.motorcycles',\n",
       " 'rec.sport.baseball',\n",
       " 'rec.sport.hockey',\n",
       " 'sci.crypt',\n",
       " 'sci.electronics',\n",
       " 'sci.med',\n",
       " 'sci.space',\n",
       " 'soc.religion.christian',\n",
       " 'talk.politics.guns',\n",
       " 'talk.politics.mideast',\n",
       " 'talk.politics.misc',\n",
       " 'talk.religion.misc'}"
      ]
     },
     "execution_count": 7,
     "metadata": {},
     "output_type": "execute_result"
    }
   ],
   "source": [
    "set(list(dataset[\"train\"][\"label\"]))"
   ]
  },
  {
   "cell_type": "code",
   "execution_count": 8,
   "id": "fed55d09-9dfc-4607-beea-d117108a62fc",
   "metadata": {},
   "outputs": [],
   "source": [
    "# Class mapping\n",
    "\n",
    "# 0 -> comp.graphics (0)\n",
    "# 0 -> comp.os.ms-windows.misc (1)\n",
    "# 0 -> comp.sys.ibm.pc.hardware (2)\n",
    "# 0 -> comp.sys.mac.hardware (3)\n",
    "# 0 -> comp.windows.x (4)\n",
    "\n",
    "# 1 -> misc.forsale (5)\n",
    "\n",
    "# 2 -> talk.politics.misc (6)\n",
    "# 2 -> talk.politics.guns (7)\n",
    "# 2 -> talk.politics.mideast (8)\n",
    "\n",
    "# 3 -> talk.religion.misc (9)\n",
    "# 3 -> alt.atheism (10)\n",
    "# 3 -> soc.religion.christian (11)\n",
    "\n",
    "# 4 -> sci.crypt (12)\n",
    "# 4 -> sci.electronics (13)\n",
    "# 4 -> sci.med (14)\n",
    "# 4 -> sci.space (15)\n",
    "\n",
    "# 5 -> rec.autos # Drift (16)\n",
    "# 5 -> rec.motorcycles # Drift (17)\n",
    "# 5 -> rec.sport.baseball # Drift (18)\n",
    "# 5 -> rec.sport.hockey # Drift (19)"
   ]
  },
  {
   "cell_type": "code",
   "execution_count": 9,
   "id": "e883965c-1262-4aeb-83ce-14e66c9471a6",
   "metadata": {},
   "outputs": [],
   "source": [
    "label2macroid = {\n",
    "\"comp.graphics\": 0,\n",
    "\"comp.os.ms-windows.misc\": 0,\n",
    "\"comp.sys.ibm.pc.hardware\": 0,\n",
    "\"comp.sys.mac.hardware\": 0,\n",
    "\"comp.windows.x\": 0,\n",
    "\"misc.forsale\": 1,\n",
    "\"talk.politics.misc\": 2,\n",
    "\"talk.politics.guns\": 2,\n",
    "\"talk.politics.mideast\": 2,\n",
    "\"talk.religion.misc\": 3,\n",
    "\"alt.atheism\": 3,\n",
    "\"soc.religion.christian\": 3,\n",
    "\"sci.crypt\": 4,\n",
    "\"sci.electronics\": 4,\n",
    "\"sci.med\": 4,\n",
    "\"sci.space\": 4,\n",
    "\"rec.autos\": 5, # Drift\n",
    "\"rec.motorcycles\": 5, # Drift\n",
    "\"rec.sport.baseball\": 5, # Drift\n",
    "\"rec.sport.hockey\": 5 # Drift       \n",
    "}"
   ]
  },
  {
   "cell_type": "code",
   "execution_count": 10,
   "id": "98f789a0-f57e-4bfb-9e42-e090f6bb7c17",
   "metadata": {},
   "outputs": [],
   "source": [
    "macroid2macrolabel = [\"Technology\", \"Sale-Ads\", \"Politics\", \"Religion\", \"Science\", \"Recreation\"]"
   ]
  },
  {
   "cell_type": "code",
   "execution_count": 11,
   "id": "8c8101ac-be48-4e6b-ba50-60f02c057499",
   "metadata": {},
   "outputs": [],
   "source": [
    "label2id = {\n",
    "\"comp.graphics\": 0,\n",
    "\"comp.os.ms-windows.misc\": 1,\n",
    "\"comp.sys.ibm.pc.hardware\": 2,\n",
    "\"comp.sys.mac.hardware\": 3,\n",
    "\"comp.windows.x\": 4,\n",
    "\"misc.forsale\": 5,\n",
    "\"talk.politics.misc\": 6,\n",
    "\"talk.politics.guns\": 7,\n",
    "\"talk.politics.mideast\": 8,\n",
    "\"talk.religion.misc\": 9,\n",
    "\"alt.atheism\": 10,\n",
    "\"soc.religion.christian\": 11,\n",
    "\"sci.crypt\": 12,\n",
    "\"sci.electronics\": 13,\n",
    "\"sci.med\": 14,\n",
    "\"sci.space\": 15,\n",
    "\"rec.autos\": 16,\n",
    "\"rec.motorcycles\": 17,\n",
    "\"rec.sport.baseball\": 18,\n",
    "\"rec.sport.hockey\": 19        \n",
    "}"
   ]
  },
  {
   "cell_type": "code",
   "execution_count": 12,
   "id": "bea943ef-0f9b-424a-8e7d-d15bd1fc38ca",
   "metadata": {},
   "outputs": [],
   "source": [
    "# Convert the dataset to a pandas DataFrame\n",
    "df_train = dataset['train'].to_pandas()\n",
    "\n",
    "df_test = dataset['test'].to_pandas()"
   ]
  },
  {
   "cell_type": "code",
   "execution_count": 13,
   "id": "660445ae-a80f-417f-a4bf-f9de7fa7eabc",
   "metadata": {},
   "outputs": [
    {
     "data": {
      "text/html": [
       "<div>\n",
       "<style scoped>\n",
       "    .dataframe tbody tr th:only-of-type {\n",
       "        vertical-align: middle;\n",
       "    }\n",
       "\n",
       "    .dataframe tbody tr th {\n",
       "        vertical-align: top;\n",
       "    }\n",
       "\n",
       "    .dataframe thead th {\n",
       "        text-align: right;\n",
       "    }\n",
       "</style>\n",
       "<table border=\"1\" class=\"dataframe\">\n",
       "  <thead>\n",
       "    <tr style=\"text-align: right;\">\n",
       "      <th></th>\n",
       "      <th>id</th>\n",
       "      <th>text</th>\n",
       "      <th>label</th>\n",
       "    </tr>\n",
       "  </thead>\n",
       "  <tbody>\n",
       "    <tr>\n",
       "      <th>0</th>\n",
       "      <td>0</td>\n",
       "      <td>I was wondering if anyone out there could enli...</td>\n",
       "      <td>rec.autos</td>\n",
       "    </tr>\n",
       "    <tr>\n",
       "      <th>1</th>\n",
       "      <td>1</td>\n",
       "      <td>A fair number of brave souls who upgraded thei...</td>\n",
       "      <td>comp.sys.mac.hardware</td>\n",
       "    </tr>\n",
       "    <tr>\n",
       "      <th>2</th>\n",
       "      <td>2</td>\n",
       "      <td>well folks, my mac plus finally gave up the gh...</td>\n",
       "      <td>comp.sys.mac.hardware</td>\n",
       "    </tr>\n",
       "    <tr>\n",
       "      <th>3</th>\n",
       "      <td>3</td>\n",
       "      <td>\\nDo you have Weitek's address/phone number?  ...</td>\n",
       "      <td>comp.graphics</td>\n",
       "    </tr>\n",
       "    <tr>\n",
       "      <th>4</th>\n",
       "      <td>4</td>\n",
       "      <td>From article &lt;C5owCB.n3p@world.std.com&gt;, by to...</td>\n",
       "      <td>sci.space</td>\n",
       "    </tr>\n",
       "  </tbody>\n",
       "</table>\n",
       "</div>"
      ],
      "text/plain": [
       "   id                                               text  \\\n",
       "0   0  I was wondering if anyone out there could enli...   \n",
       "1   1  A fair number of brave souls who upgraded thei...   \n",
       "2   2  well folks, my mac plus finally gave up the gh...   \n",
       "3   3  \\nDo you have Weitek's address/phone number?  ...   \n",
       "4   4  From article <C5owCB.n3p@world.std.com>, by to...   \n",
       "\n",
       "                   label  \n",
       "0              rec.autos  \n",
       "1  comp.sys.mac.hardware  \n",
       "2  comp.sys.mac.hardware  \n",
       "3          comp.graphics  \n",
       "4              sci.space  "
      ]
     },
     "execution_count": 13,
     "metadata": {},
     "output_type": "execute_result"
    }
   ],
   "source": [
    "df_train.head()"
   ]
  },
  {
   "cell_type": "code",
   "execution_count": 14,
   "id": "14eec366-f57f-4041-bb9d-8847c3e099f1",
   "metadata": {},
   "outputs": [],
   "source": [
    "df_train[\"micro_label_name\"] = df_train[\"label\"]\n",
    "df_train.drop(labels=\"label\", axis=1, inplace=True)\n",
    "df_train[\"micro_label_id\"] = df_train[\"micro_label_name\"].apply(lambda l: label2id[l])\n",
    "df_train[\"macro_label_id\"] = df_train[\"micro_label_name\"].apply(lambda l: label2macroid[l])\n",
    "df_train[\"macro_label_name\"] = df_train[\"macro_label_id\"].apply(lambda l: macroid2macrolabel[l])"
   ]
  },
  {
   "cell_type": "code",
   "execution_count": 15,
   "id": "16996945-0f81-463d-adb1-35597711919e",
   "metadata": {},
   "outputs": [],
   "source": [
    "df_test[\"micro_label_name\"] = df_test[\"label\"]\n",
    "df_test.drop(labels=\"label\", axis=1, inplace=True)\n",
    "df_test[\"micro_label_id\"] = df_test[\"micro_label_name\"].apply(lambda l: label2id[l])\n",
    "df_test[\"macro_label_id\"] = df_test[\"micro_label_name\"].apply(lambda l: label2macroid[l])\n",
    "df_test[\"macro_label_name\"] = df_test[\"macro_label_id\"].apply(lambda l: macroid2macrolabel[l])"
   ]
  },
  {
   "cell_type": "code",
   "execution_count": 16,
   "id": "a71021b5-1cea-45d8-981b-3314f7d7b433",
   "metadata": {},
   "outputs": [
    {
     "data": {
      "text/html": [
       "<div>\n",
       "<style scoped>\n",
       "    .dataframe tbody tr th:only-of-type {\n",
       "        vertical-align: middle;\n",
       "    }\n",
       "\n",
       "    .dataframe tbody tr th {\n",
       "        vertical-align: top;\n",
       "    }\n",
       "\n",
       "    .dataframe thead th {\n",
       "        text-align: right;\n",
       "    }\n",
       "</style>\n",
       "<table border=\"1\" class=\"dataframe\">\n",
       "  <thead>\n",
       "    <tr style=\"text-align: right;\">\n",
       "      <th></th>\n",
       "      <th>id</th>\n",
       "      <th>text</th>\n",
       "      <th>micro_label_name</th>\n",
       "      <th>micro_label_id</th>\n",
       "      <th>macro_label_id</th>\n",
       "      <th>macro_label_name</th>\n",
       "    </tr>\n",
       "  </thead>\n",
       "  <tbody>\n",
       "    <tr>\n",
       "      <th>0</th>\n",
       "      <td>0</td>\n",
       "      <td>I was wondering if anyone out there could enli...</td>\n",
       "      <td>rec.autos</td>\n",
       "      <td>16</td>\n",
       "      <td>5</td>\n",
       "      <td>Recreation</td>\n",
       "    </tr>\n",
       "    <tr>\n",
       "      <th>1</th>\n",
       "      <td>1</td>\n",
       "      <td>A fair number of brave souls who upgraded thei...</td>\n",
       "      <td>comp.sys.mac.hardware</td>\n",
       "      <td>3</td>\n",
       "      <td>0</td>\n",
       "      <td>Technology</td>\n",
       "    </tr>\n",
       "    <tr>\n",
       "      <th>2</th>\n",
       "      <td>2</td>\n",
       "      <td>well folks, my mac plus finally gave up the gh...</td>\n",
       "      <td>comp.sys.mac.hardware</td>\n",
       "      <td>3</td>\n",
       "      <td>0</td>\n",
       "      <td>Technology</td>\n",
       "    </tr>\n",
       "    <tr>\n",
       "      <th>3</th>\n",
       "      <td>3</td>\n",
       "      <td>\\nDo you have Weitek's address/phone number?  ...</td>\n",
       "      <td>comp.graphics</td>\n",
       "      <td>0</td>\n",
       "      <td>0</td>\n",
       "      <td>Technology</td>\n",
       "    </tr>\n",
       "    <tr>\n",
       "      <th>4</th>\n",
       "      <td>4</td>\n",
       "      <td>From article &lt;C5owCB.n3p@world.std.com&gt;, by to...</td>\n",
       "      <td>sci.space</td>\n",
       "      <td>15</td>\n",
       "      <td>4</td>\n",
       "      <td>Science</td>\n",
       "    </tr>\n",
       "  </tbody>\n",
       "</table>\n",
       "</div>"
      ],
      "text/plain": [
       "   id                                               text  \\\n",
       "0   0  I was wondering if anyone out there could enli...   \n",
       "1   1  A fair number of brave souls who upgraded thei...   \n",
       "2   2  well folks, my mac plus finally gave up the gh...   \n",
       "3   3  \\nDo you have Weitek's address/phone number?  ...   \n",
       "4   4  From article <C5owCB.n3p@world.std.com>, by to...   \n",
       "\n",
       "        micro_label_name  micro_label_id  macro_label_id macro_label_name  \n",
       "0              rec.autos              16               5       Recreation  \n",
       "1  comp.sys.mac.hardware               3               0       Technology  \n",
       "2  comp.sys.mac.hardware               3               0       Technology  \n",
       "3          comp.graphics               0               0       Technology  \n",
       "4              sci.space              15               4          Science  "
      ]
     },
     "execution_count": 16,
     "metadata": {},
     "output_type": "execute_result"
    }
   ],
   "source": [
    "df_train.head()"
   ]
  },
  {
   "cell_type": "code",
   "execution_count": 17,
   "id": "911009b4-e58d-479d-8b35-fa142b31f2cd",
   "metadata": {},
   "outputs": [
    {
     "data": {
      "text/html": [
       "<div>\n",
       "<style scoped>\n",
       "    .dataframe tbody tr th:only-of-type {\n",
       "        vertical-align: middle;\n",
       "    }\n",
       "\n",
       "    .dataframe tbody tr th {\n",
       "        vertical-align: top;\n",
       "    }\n",
       "\n",
       "    .dataframe thead th {\n",
       "        text-align: right;\n",
       "    }\n",
       "</style>\n",
       "<table border=\"1\" class=\"dataframe\">\n",
       "  <thead>\n",
       "    <tr style=\"text-align: right;\">\n",
       "      <th></th>\n",
       "      <th>id</th>\n",
       "      <th>text</th>\n",
       "      <th>micro_label_name</th>\n",
       "      <th>micro_label_id</th>\n",
       "      <th>macro_label_id</th>\n",
       "      <th>macro_label_name</th>\n",
       "    </tr>\n",
       "  </thead>\n",
       "  <tbody>\n",
       "    <tr>\n",
       "      <th>0</th>\n",
       "      <td>0</td>\n",
       "      <td>I am a little confused on all of the models of...</td>\n",
       "      <td>rec.autos</td>\n",
       "      <td>16</td>\n",
       "      <td>5</td>\n",
       "      <td>Recreation</td>\n",
       "    </tr>\n",
       "    <tr>\n",
       "      <th>1</th>\n",
       "      <td>1</td>\n",
       "      <td>I'm not familiar at all with the format of the...</td>\n",
       "      <td>comp.windows.x</td>\n",
       "      <td>4</td>\n",
       "      <td>0</td>\n",
       "      <td>Technology</td>\n",
       "    </tr>\n",
       "    <tr>\n",
       "      <th>2</th>\n",
       "      <td>3</td>\n",
       "      <td>\\nThey were attacking the Iraqis to drive them...</td>\n",
       "      <td>talk.politics.mideast</td>\n",
       "      <td>8</td>\n",
       "      <td>2</td>\n",
       "      <td>Politics</td>\n",
       "    </tr>\n",
       "    <tr>\n",
       "      <th>3</th>\n",
       "      <td>4</td>\n",
       "      <td>\\nI've just spent two solid months arguing tha...</td>\n",
       "      <td>talk.religion.misc</td>\n",
       "      <td>9</td>\n",
       "      <td>3</td>\n",
       "      <td>Religion</td>\n",
       "    </tr>\n",
       "    <tr>\n",
       "      <th>4</th>\n",
       "      <td>5</td>\n",
       "      <td>\\nElisabeth, let's set the record straight for...</td>\n",
       "      <td>sci.med</td>\n",
       "      <td>14</td>\n",
       "      <td>4</td>\n",
       "      <td>Science</td>\n",
       "    </tr>\n",
       "  </tbody>\n",
       "</table>\n",
       "</div>"
      ],
      "text/plain": [
       "   id                                               text  \\\n",
       "0   0  I am a little confused on all of the models of...   \n",
       "1   1  I'm not familiar at all with the format of the...   \n",
       "2   3  \\nThey were attacking the Iraqis to drive them...   \n",
       "3   4  \\nI've just spent two solid months arguing tha...   \n",
       "4   5  \\nElisabeth, let's set the record straight for...   \n",
       "\n",
       "        micro_label_name  micro_label_id  macro_label_id macro_label_name  \n",
       "0              rec.autos              16               5       Recreation  \n",
       "1         comp.windows.x               4               0       Technology  \n",
       "2  talk.politics.mideast               8               2         Politics  \n",
       "3     talk.religion.misc               9               3         Religion  \n",
       "4                sci.med              14               4          Science  "
      ]
     },
     "execution_count": 17,
     "metadata": {},
     "output_type": "execute_result"
    }
   ],
   "source": [
    "df_test.head()"
   ]
  },
  {
   "cell_type": "code",
   "execution_count": 18,
   "id": "10605a45-1137-45ec-a5bb-29fcf4437466",
   "metadata": {},
   "outputs": [],
   "source": [
    "df_train_deg = df_train.loc[df_train.macro_label_id == 5].copy()\n",
    "df_test_deg = df_test.loc[df_test.macro_label_id == 5].copy()\n",
    "\n",
    "df_deg = pd.concat([df_train_deg, df_test_deg])\n",
    "\n",
    "df_train = df_train.loc[df_train.macro_label_id != 5]\n",
    "df_test = df_test.loc[df_test.macro_label_id != 5]\n"
   ]
  },
  {
   "cell_type": "code",
   "execution_count": 19,
   "id": "beedb3fc-cc53-429b-a82d-039439f142b7",
   "metadata": {},
   "outputs": [
    {
     "data": {
      "text/plain": [
       "0    2781\n",
       "4    2267\n",
       "2    1485\n",
       "3    1370\n",
       "1     565\n",
       "Name: macro_label_id, dtype: int64"
      ]
     },
     "execution_count": 19,
     "metadata": {},
     "output_type": "execute_result"
    }
   ],
   "source": [
    "df_train.macro_label_id.value_counts()"
   ]
  },
  {
   "cell_type": "code",
   "execution_count": 20,
   "id": "06871b6b-f8cf-4b43-911a-2320c68ef153",
   "metadata": {},
   "outputs": [
    {
     "data": {
      "text/plain": [
       "0    1844\n",
       "4    1466\n",
       "2     982\n",
       "3     900\n",
       "1     368\n",
       "Name: macro_label_id, dtype: int64"
      ]
     },
     "execution_count": 20,
     "metadata": {},
     "output_type": "execute_result"
    }
   ],
   "source": [
    "df_test.macro_label_id.value_counts()"
   ]
  },
  {
   "cell_type": "code",
   "execution_count": 21,
   "id": "d5325e8a-b36f-4d98-ae49-882056c70346",
   "metadata": {},
   "outputs": [
    {
     "data": {
      "text/plain": [
       "<AxesSubplot:title={'center':'Target Dristribution'}, ylabel='Frequency'>"
      ]
     },
     "execution_count": 21,
     "metadata": {},
     "output_type": "execute_result"
    },
    {
     "data": {
      "image/png": "[encoded data removed]",
      "text/plain": [
       "<Figure size 432x288 with 1 Axes>"
      ]
     },
     "metadata": {
      "needs_background": "light"
     },
     "output_type": "display_data"
    }
   ],
   "source": [
    "df_train.macro_label_id.plot(kind='hist', title='Target Dristribution')"
   ]
  },
  {
   "cell_type": "code",
   "execution_count": 22,
   "id": "0c4702a6-cd21-40dd-bbd4-863761e13ee3",
   "metadata": {},
   "outputs": [
    {
     "data": {
      "text/plain": [
       "<AxesSubplot:title={'center':'Target Dristribution'}, ylabel='Frequency'>"
      ]
     },
     "execution_count": 22,
     "metadata": {},
     "output_type": "execute_result"
    },
    {
     "data": {
      "image/png": "[encoded data removed]",
      "text/plain": [
       "<Figure size 432x288 with 1 Axes>"
      ]
     },
     "metadata": {
      "needs_background": "light"
     },
     "output_type": "display_data"
    }
   ],
   "source": [
    "df_deg.macro_label_id.plot(kind='hist', title='Target Dristribution')"
   ]
  },
  {
   "cell_type": "code",
   "execution_count": 23,
   "id": "7ce52b16-9d42-47fe-9a5f-77d2020178a3",
   "metadata": {},
   "outputs": [],
   "source": [
    "df_train['id'] = range(0, len(df_train))\n",
    "df_deg['id'] = range(len(df_train),len(df_train)+len(df_deg) )\n",
    "df_test['id'] = range(len(df_deg)+len(df_train),len(df_train)+len(df_deg)+len(df_test))"
   ]
  },
  {
   "cell_type": "code",
   "execution_count": 24,
   "id": "904f9994-904a-4199-9ad2-853011acc7f3",
   "metadata": {
    "tags": []
   },
   "outputs": [],
   "source": [
    "df_new_unseen = df_test.copy()"
   ]
  },
  {
   "cell_type": "code",
   "execution_count": 25,
   "id": "8d62b16d-a15b-48a8-9c90-205b42a85af7",
   "metadata": {
    "tags": []
   },
   "outputs": [],
   "source": [
    "import pandas as pd\n",
    "from sklearn.model_selection import train_test_split\n",
    "\n",
    "def split_stratified_into_train_val_test(df_input, stratify_colname='y',\n",
    "                                         frac_train=0.6, frac_test=0.4,\n",
    "                                         random_state=None):\n",
    "\n",
    "\n",
    "    if frac_train + frac_test != 1.0:\n",
    "        raise ValueError('fractions %f, %f do not add up to 1.0' % \\\n",
    "                         (frac_train, frac_test))\n",
    "\n",
    "    if stratify_colname not in df_input.columns:\n",
    "        raise ValueError('%s is not a column in the dataframe' % (stratify_colname))\n",
    "\n",
    "    X = df_input # Contains all columns.\n",
    "    y = df_input[[stratify_colname]] # Dataframe of just the column on which to stratify.\n",
    "\n",
    "    # Split original dataframe into train and test dataframes.\n",
    "    df_train, df_test, y_train, y_test = train_test_split(X,\n",
    "                                                          y,\n",
    "                                                          stratify=y,\n",
    "                                                          test_size=frac_test,\n",
    "                                                          random_state=random_state)\n",
    "\n",
    "\n",
    "    assert len(df_input) == len(df_train) + len(df_test)\n",
    "\n",
    "    return df_train, df_test"
   ]
  },
  {
   "cell_type": "code",
   "execution_count": 26,
   "id": "790104b4-d068-4731-88e8-e5551985ff64",
   "metadata": {
    "tags": []
   },
   "outputs": [],
   "source": [
    "df_train, df_test = split_stratified_into_train_val_test(df_train, stratify_colname='macro_label_id',\n",
    "                                         frac_train=0.6, frac_test=0.4,\n",
    "                                         random_state=42)"
   ]
  },
  {
   "cell_type": "code",
   "execution_count": 27,
   "id": "86297559-e506-422f-8ff2-571e2c34e198",
   "metadata": {
    "tags": []
   },
   "outputs": [
    {
     "name": "stdout",
     "output_type": "stream",
     "text": [
      "5080\n",
      "3388\n",
      "5560\n",
      "3655\n"
     ]
    }
   ],
   "source": [
    "print(len(df_train))\n",
    "print(len(df_test))\n",
    "print(len(df_new_unseen))\n",
    "print(len(df_deg))"
   ]
  },
  {
   "cell_type": "code",
   "execution_count": 28,
   "id": "1b43879d-da42-4a37-b490-ce5821bbd01b",
   "metadata": {
    "tags": []
   },
   "outputs": [
    {
     "data": {
      "text/plain": [
       "0    1668\n",
       "4    1360\n",
       "2     891\n",
       "3     822\n",
       "1     339\n",
       "Name: macro_label_id, dtype: int64"
      ]
     },
     "execution_count": 28,
     "metadata": {},
     "output_type": "execute_result"
    }
   ],
   "source": [
    "df_train.macro_label_id.value_counts()"
   ]
  },
  {
   "cell_type": "code",
   "execution_count": 29,
   "id": "480daf35-8522-41fb-bf59-3cc0bfc2a884",
   "metadata": {
    "tags": []
   },
   "outputs": [
    {
     "data": {
      "text/plain": [
       "0    1113\n",
       "4     907\n",
       "2     594\n",
       "3     548\n",
       "1     226\n",
       "Name: macro_label_id, dtype: int64"
      ]
     },
     "execution_count": 29,
     "metadata": {},
     "output_type": "execute_result"
    }
   ],
   "source": [
    "df_test.macro_label_id.value_counts()"
   ]
  },
  {
   "cell_type": "code",
   "execution_count": 30,
   "id": "61de0a7a-fcb8-4aed-8359-a8e946be9219",
   "metadata": {
    "tags": []
   },
   "outputs": [
    {
     "data": {
      "text/plain": [
       "0    1844\n",
       "4    1466\n",
       "2     982\n",
       "3     900\n",
       "1     368\n",
       "Name: macro_label_id, dtype: int64"
      ]
     },
     "execution_count": 30,
     "metadata": {},
     "output_type": "execute_result"
    }
   ],
   "source": [
    "df_new_unseen.macro_label_id.value_counts()"
   ]
  },
  {
   "cell_type": "code",
   "execution_count": 31,
   "id": "da18c70e-2ddd-4c8d-97e0-1b6911535998",
   "metadata": {},
   "outputs": [
    {
     "data": {
      "text/html": [
       "<div>\n",
       "<style scoped>\n",
       "    .dataframe tbody tr th:only-of-type {\n",
       "        vertical-align: middle;\n",
       "    }\n",
       "\n",
       "    .dataframe tbody tr th {\n",
       "        vertical-align: top;\n",
       "    }\n",
       "\n",
       "    .dataframe thead th {\n",
       "        text-align: right;\n",
       "    }\n",
       "</style>\n",
       "<table border=\"1\" class=\"dataframe\">\n",
       "  <thead>\n",
       "    <tr style=\"text-align: right;\">\n",
       "      <th></th>\n",
       "      <th>id</th>\n",
       "      <th>text</th>\n",
       "      <th>micro_label_name</th>\n",
       "      <th>micro_label_id</th>\n",
       "      <th>macro_label_id</th>\n",
       "      <th>macro_label_name</th>\n",
       "    </tr>\n",
       "  </thead>\n",
       "  <tbody>\n",
       "    <tr>\n",
       "      <th>2797</th>\n",
       "      <td>2202</td>\n",
       "      <td>Recently I saw the latest Computer Shopper and...</td>\n",
       "      <td>comp.graphics</td>\n",
       "      <td>0</td>\n",
       "      <td>0</td>\n",
       "      <td>Technology</td>\n",
       "    </tr>\n",
       "    <tr>\n",
       "      <th>7006</th>\n",
       "      <td>5569</td>\n",
       "      <td>\\nIt does give privacy, just not absolute priv...</td>\n",
       "      <td>sci.crypt</td>\n",
       "      <td>12</td>\n",
       "      <td>4</td>\n",
       "      <td>Science</td>\n",
       "    </tr>\n",
       "    <tr>\n",
       "      <th>3765</th>\n",
       "      <td>2988</td>\n",
       "      <td>OK Phil, you're right. So far the \"evidence\" s...</td>\n",
       "      <td>talk.politics.misc</td>\n",
       "      <td>6</td>\n",
       "      <td>2</td>\n",
       "      <td>Politics</td>\n",
       "    </tr>\n",
       "    <tr>\n",
       "      <th>521</th>\n",
       "      <td>413</td>\n",
       "      <td>\\n\\n\\n\\n\\n\\nIt's a fair stretch of anyone's im...</td>\n",
       "      <td>talk.politics.guns</td>\n",
       "      <td>7</td>\n",
       "      <td>2</td>\n",
       "      <td>Politics</td>\n",
       "    </tr>\n",
       "    <tr>\n",
       "      <th>5722</th>\n",
       "      <td>4546</td>\n",
       "      <td>Could someone email me a USNail address for th...</td>\n",
       "      <td>talk.politics.guns</td>\n",
       "      <td>7</td>\n",
       "      <td>2</td>\n",
       "      <td>Politics</td>\n",
       "    </tr>\n",
       "  </tbody>\n",
       "</table>\n",
       "</div>"
      ],
      "text/plain": [
       "        id                                               text  \\\n",
       "2797  2202  Recently I saw the latest Computer Shopper and...   \n",
       "7006  5569  \\nIt does give privacy, just not absolute priv...   \n",
       "3765  2988  OK Phil, you're right. So far the \"evidence\" s...   \n",
       "521    413  \\n\\n\\n\\n\\n\\nIt's a fair stretch of anyone's im...   \n",
       "5722  4546  Could someone email me a USNail address for th...   \n",
       "\n",
       "        micro_label_name  micro_label_id  macro_label_id macro_label_name  \n",
       "2797       comp.graphics               0               0       Technology  \n",
       "7006           sci.crypt              12               4          Science  \n",
       "3765  talk.politics.misc               6               2         Politics  \n",
       "521   talk.politics.guns               7               2         Politics  \n",
       "5722  talk.politics.guns               7               2         Politics  "
      ]
     },
     "execution_count": 31,
     "metadata": {},
     "output_type": "execute_result"
    }
   ],
   "source": [
    "df_train.head()"
   ]
  },
  {
   "cell_type": "code",
   "execution_count": 32,
   "id": "68fb4e64-c558-4fce-af02-280b2a8cca72",
   "metadata": {},
   "outputs": [],
   "source": [
    "import re\n",
    "\n",
    "def clean_text(text):\n",
    "    text = re.sub(\"@\\S+\", \" \", text) # Remove Mentions\n",
    "    text = re.sub(\"https*\\S+\", \" \", text) # Remove URL\n",
    "    text = re.sub(\"#\\S+\", \" \", text) # Remove Hastags\n",
    "    text = re.sub('&lt;/?[a-z]+&gt;', '', text) # Remove special Charaters\n",
    "    text = re.sub('#39', ' ', text) # Remove special Charaters\n",
    "    text = re.sub('<.*?>', '', text) # Remove html\n",
    "    text = re.sub(' +', ' ', text) # Merge multiple blank spaces\n",
    "    text = re.sub('[^a-zA-Z0-9 \\n\\.]', '', text)\n",
    "    text = re.sub(r'[0-9]+', '', text)\n",
    "    text = re.sub(\"\\n\", \" \", text) # Remove \\n\n",
    "    text = re.sub(\"\\S*@\\S*\\s?\", \" \", text) # Remove mails\n",
    "    text = re.sub(\"/\", \" \", text) # Remove /\n",
    "    text = re.sub(\"-\", \"\", text) # Remove /\n",
    "    text = text.strip()\n",
    "    #text = re.sub(\"*\", \"\", text) # Remove *\n",
    "    return text\n",
    "\n",
    "def get_label_name(label_id):\n",
    "    labels = [\"Technology\", \"Sale-Ads\", \"Politics\", \"Religion\", \"Science\", \"Recreation\"]\n",
    "    return labels[label_id]"
   ]
  },
  {
   "cell_type": "code",
   "execution_count": 33,
   "id": "b16600a1-c232-403a-a566-0b24bd526ad0",
   "metadata": {},
   "outputs": [],
   "source": [
    "df_train_cleaned = df_train.copy()\n",
    "df_deg_cleaned = df_deg.copy()\n",
    "df_test_cleaned = df_test.copy()\n",
    "df_new_unseen_cleaned = df_new_unseen.copy()\n",
    "\n",
    "df_train_cleaned[\"text\"] = df_train_cleaned[\"text\"].apply(clean_text)\n",
    "df_deg_cleaned[\"text\"] = df_deg_cleaned[\"text\"].apply(clean_text)\n",
    "df_test_cleaned[\"text\" ]= df_test_cleaned[\"text\"].apply(clean_text)\n",
    "df_new_unseen_cleaned[\"text\" ]= df_new_unseen_cleaned[\"text\"].apply(clean_text)"
   ]
  },
  {
   "cell_type": "code",
   "execution_count": 34,
   "id": "175fbf9e-152b-48e7-bdc3-05ffbbecedd7",
   "metadata": {},
   "outputs": [],
   "source": [
    "import numpy as np\n",
    "\n",
    "df_train_cleaned['text'].replace('', np.nan, inplace=True)\n",
    "df_deg_cleaned['text'].replace('', np.nan, inplace=True)\n",
    "df_test_cleaned['text'].replace('', np.nan, inplace=True)\n",
    "df_new_unseen_cleaned['text'].replace('', np.nan, inplace=True)\n",
    "\n",
    "df_train_cleaned.dropna(subset=['text'], inplace=True)\n",
    "df_deg_cleaned.dropna(subset=['text'], inplace=True)\n",
    "df_test_cleaned.dropna(subset=['text'], inplace=True)\n",
    "df_new_unseen_cleaned.dropna(subset=['text'], inplace=True)\n",
    "\n",
    "df_train_cleaned = df_train_cleaned.drop(df_train_cleaned[df_train_cleaned.text.str.isspace()].index)\n",
    "df_deg_cleaned = df_deg_cleaned.drop(df_deg_cleaned[df_deg_cleaned.text.str.isspace()].index)\n",
    "df_test_cleaned = df_test_cleaned.drop(df_test_cleaned[df_test_cleaned.text.str.isspace()].index)\n",
    "df_new_unseen_cleaned = df_new_unseen_cleaned.drop(df_new_unseen_cleaned[df_new_unseen_cleaned.text.str.isspace()].index)\n",
    "\n",
    "df_train_cleaned = df_train_cleaned.drop(df_train_cleaned[df_train_cleaned.text == \"\"].index)\n",
    "df_deg_cleaned = df_deg_cleaned.drop(df_deg_cleaned[df_deg_cleaned.text == \"\"].index)\n",
    "df_test_cleaned = df_test_cleaned.drop(df_test_cleaned[df_test_cleaned.text == \"\"].index)\n",
    "df_new_unseen_cleaned = df_new_unseen_cleaned.drop(df_new_unseen_cleaned[df_new_unseen_cleaned.text == \"\"].index)"
   ]
  },
  {
   "cell_type": "code",
   "execution_count": 35,
   "id": "2c4763bb-ef23-4ce8-98a5-b585cf91c7e3",
   "metadata": {},
   "outputs": [],
   "source": [
    "label_list = [0, 1, 2, 3, 4, 5]\n",
    "training_label_list = [0, 1, 2, 3, 4]\n",
    "drift_label_list = [5]"
   ]
  },
  {
   "cell_type": "code",
   "execution_count": 36,
   "id": "83915c71-a400-4cf9-a6ed-5c1d0290a01e",
   "metadata": {},
   "outputs": [
    {
     "data": {
      "text/plain": [
       "<AxesSubplot:>"
      ]
     },
     "execution_count": 36,
     "metadata": {},
     "output_type": "execute_result"
    },
    {
     "data": {
      "image/png": "[encoded data removed]",
      "text/plain": [
       "<Figure size 432x288 with 1 Axes>"
      ]
     },
     "metadata": {
      "needs_background": "light"
     },
     "output_type": "display_data"
    }
   ],
   "source": [
    "df_train['macro_label_id'].value_counts(sort=True).plot.bar()"
   ]
  },
  {
   "cell_type": "code",
   "execution_count": 37,
   "id": "e8ec8233-fe1a-4ae5-9388-e26e92ae9f96",
   "metadata": {},
   "outputs": [
    {
     "data": {
      "text/plain": [
       "(5080, 6)"
      ]
     },
     "execution_count": 37,
     "metadata": {},
     "output_type": "execute_result"
    }
   ],
   "source": [
    "df_train.shape"
   ]
  },
  {
   "cell_type": "code",
   "execution_count": 38,
   "id": "0de1acfd-1120-41a1-aca9-ffdb67555db3",
   "metadata": {},
   "outputs": [
    {
     "data": {
      "text/plain": [
       "<AxesSubplot:>"
      ]
     },
     "execution_count": 38,
     "metadata": {},
     "output_type": "execute_result"
    },
    {
     "data": {
      "image/png": "[encoded data removed]",
      "text/plain": [
       "<Figure size 432x288 with 1 Axes>"
      ]
     },
     "metadata": {
      "needs_background": "light"
     },
     "output_type": "display_data"
    }
   ],
   "source": [
    "df_test['macro_label_id'].value_counts(sort=True).plot.bar()"
   ]
  },
  {
   "cell_type": "code",
   "execution_count": 39,
   "id": "630bf1c1-825d-4e62-b74d-706cf9447193",
   "metadata": {
    "tags": []
   },
   "outputs": [
    {
     "data": {
      "text/plain": [
       "(3388, 6)"
      ]
     },
     "execution_count": 39,
     "metadata": {},
     "output_type": "execute_result"
    }
   ],
   "source": [
    "df_test.shape"
   ]
  },
  {
   "cell_type": "code",
   "execution_count": 40,
   "id": "56e109b6-ef29-47e4-a454-e4a79a58d552",
   "metadata": {
    "tags": []
   },
   "outputs": [
    {
     "data": {
      "text/plain": [
       "<AxesSubplot:>"
      ]
     },
     "execution_count": 40,
     "metadata": {},
     "output_type": "execute_result"
    },
    {
     "data": {
      "image/png": "[encoded data removed]",
      "text/plain": [
       "<Figure size 432x288 with 1 Axes>"
      ]
     },
     "metadata": {
      "needs_background": "light"
     },
     "output_type": "display_data"
    }
   ],
   "source": [
    "df_new_unseen['macro_label_id'].value_counts(sort=True).plot.bar()"
   ]
  },
  {
   "cell_type": "code",
   "execution_count": 41,
   "id": "857d7494-fd1e-4926-9ef7-014829288c76",
   "metadata": {
    "tags": []
   },
   "outputs": [
    {
     "data": {
      "text/plain": [
       "(5560, 6)"
      ]
     },
     "execution_count": 41,
     "metadata": {},
     "output_type": "execute_result"
    }
   ],
   "source": [
    "df_new_unseen.shape"
   ]
  },
  {
   "cell_type": "code",
   "execution_count": 42,
   "id": "ec6af545-d472-4d59-8e02-4f6b5943f0f5",
   "metadata": {},
   "outputs": [
    {
     "data": {
      "text/plain": [
       "<AxesSubplot:>"
      ]
     },
     "execution_count": 42,
     "metadata": {},
     "output_type": "execute_result"
    },
    {
     "data": {
      "image/png": "[encoded data removed]",
      "text/plain": [
       "<Figure size 432x288 with 1 Axes>"
      ]
     },
     "metadata": {
      "needs_background": "light"
     },
     "output_type": "display_data"
    }
   ],
   "source": [
    "df_deg['macro_label_id'].value_counts(sort=True).plot.bar()"
   ]
  },
  {
   "cell_type": "code",
   "execution_count": 43,
   "id": "acce3a28-5c0c-4317-a76c-1c16e1dc1c0a",
   "metadata": {},
   "outputs": [],
   "source": [
    "import os\n",
    "\n",
    "base_dir = \"use_case/hf-roberta-20-newsgroups-macroclass-drift-recreation-vldb\"\n",
    "\n",
    "df_train_cleaned.to_csv(os.path.join(base_dir,\"dataset\",\"df_train_0-4.csv\"))\n",
    "df_test_cleaned.to_csv(os.path.join(base_dir,\"dataset\",\"df_test_0-4.csv\"))\n",
    "df_new_unseen.to_csv(os.path.join(base_dir,\"dataset\",\"df_new_unseen_0-4.csv\"))\n",
    "df_deg_cleaned.to_csv(os.path.join(base_dir,\"dataset\",\"df_drifted_5.csv\"))"
   ]
  },
  {
   "cell_type": "code",
   "execution_count": 44,
   "id": "68578290-ad25-4120-9644-eb07a6d0b12b",
   "metadata": {},
   "outputs": [],
   "source": [
    "model_name = \"roberta-base\""
   ]
  },
  {
   "cell_type": "code",
   "execution_count": 45,
   "id": "0dbe4ed3-dad6-4758-8933-bf0f44c4d8ab",
   "metadata": {},
   "outputs": [],
   "source": [
    "import datasets\n",
    "from datasets import Dataset, DatasetDict\n",
    "\n",
    "\n",
    "train_dataset = Dataset.from_pandas(df_train_cleaned)\n",
    "validation_dataset = Dataset.from_pandas(df_test_cleaned)\n",
    "\n",
    "\n",
    "ds = DatasetDict()\n",
    "\n",
    "ds['train'] = train_dataset.shuffle()\n",
    "ds['validation'] = validation_dataset.shuffle()"
   ]
  },
  {
   "cell_type": "code",
   "execution_count": 46,
   "id": "f4d2e37f-18d4-41dc-906e-f902f1397fdc",
   "metadata": {},
   "outputs": [
    {
     "data": {
      "text/plain": [
       "Dataset({\n",
       "    features: ['id', 'text', 'micro_label_name', 'micro_label_id', 'macro_label_id', 'macro_label_name', '__index_level_0__'],\n",
       "    num_rows: 5080\n",
       "})"
      ]
     },
     "execution_count": 46,
     "metadata": {},
     "output_type": "execute_result"
    }
   ],
   "source": [
    "ds['train']"
   ]
  },
  {
   "cell_type": "code",
   "execution_count": 47,
   "id": "686738d5-0444-440f-887b-3a5061cb9d00",
   "metadata": {},
   "outputs": [],
   "source": [
    "columns_list = [\"id\", \"micro_label_name\", \"micro_label_id\", \"macro_label_name\", \"__index_level_0__\"]\n",
    "\n",
    "ds['train'] = ds['train'].remove_columns(columns_list)\n",
    "ds['validation'] = ds['validation'].remove_columns(columns_list)\n",
    "\n",
    "ds['train'] = ds['train'].rename_column(\"macro_label_id\", \"label\")\n",
    "ds['validation'] = ds['validation'].rename_column(\"macro_label_id\", \"label\")"
   ]
  },
  {
   "cell_type": "code",
   "execution_count": 48,
   "id": "604f78ce-4dac-434e-a535-63520b36a692",
   "metadata": {},
   "outputs": [
    {
     "data": {
      "text/plain": [
       "DatasetDict({\n",
       "    train: Dataset({\n",
       "        features: ['text', 'label'],\n",
       "        num_rows: 5080\n",
       "    })\n",
       "    validation: Dataset({\n",
       "        features: ['text', 'label'],\n",
       "        num_rows: 3387\n",
       "    })\n",
       "})"
      ]
     },
     "execution_count": 48,
     "metadata": {},
     "output_type": "execute_result"
    }
   ],
   "source": [
    "ds"
   ]
  },
  {
   "cell_type": "code",
   "execution_count": 49,
   "id": "28dd6c89-7d52-4c7a-9f47-0caa2203981b",
   "metadata": {},
   "outputs": [],
   "source": [
    "from transformers import AutoTokenizer\n",
    "\n",
    "tokenizer = AutoTokenizer.from_pretrained(model_name, do_lower_case=True)\n"
   ]
  },
  {
   "cell_type": "code",
   "execution_count": 50,
   "id": "a344b6b0-a510-45a1-a565-e2e177179fd7",
   "metadata": {},
   "outputs": [
    {
     "name": "stderr",
     "output_type": "stream",
     "text": [
      "                                                                 \r"
     ]
    }
   ],
   "source": [
    "def tokenize_function(examples):\n",
    "    return tokenizer(examples[\"text\"], padding=\"max_length\", truncation=True)\n",
    "\n",
    "\n",
    "tokenized_datasets = ds.map(tokenize_function, batched=True)"
   ]
  },
  {
   "cell_type": "code",
   "execution_count": 51,
   "id": "152cedfb-c240-4bea-a64e-98361b732eee",
   "metadata": {},
   "outputs": [
    {
     "data": {
      "text/plain": [
       "'So its okay to use civilians for cover if youre attacking soldiers in your country. Of course many of those attacking claim that they arent Lebanese so its not their country.  Got it. I think. Hmm. This is confusing.  Could you perhaps repeat your rules explaining exactly when it is permissible to use civilians as shields Also please explain under what conditions it is permissible for soldiers to defend themselves. Also please explain the particular rules that make it okay for terrorists to launch missiles from Lebanon against Israeli civilians but not okay for the Israelis to try to defend themselves against those missiles.'"
      ]
     },
     "execution_count": 51,
     "metadata": {},
     "output_type": "execute_result"
    }
   ],
   "source": [
    "tokenized_datasets[\"train\"][0][\"text\"]"
   ]
  },
  {
   "cell_type": "code",
   "execution_count": 52,
   "id": "5284a276-c389-4f39-ae02-2b4132707443",
   "metadata": {},
   "outputs": [],
   "source": [
    "label2id_train = {\"Technology\": 0,\n",
    "                  \"Sale-Ads\": 1,\n",
    "                  \"Politics\": 2,\n",
    "                 \"Religion\": 3, \n",
    "                 \"Science\": 4}\n"
   ]
  },
  {
   "cell_type": "code",
   "execution_count": 53,
   "id": "4f7b525e-199f-4f8e-89bf-93ceea1535b0",
   "metadata": {},
   "outputs": [
    {
     "name": "stderr",
     "output_type": "stream",
     "text": [
      "Some weights of the model checkpoint at roberta-base were not used when initializing RobertaForSequenceClassification: ['lm_head.decoder.weight', 'lm_head.layer_norm.weight', 'lm_head.dense.weight', 'roberta.pooler.dense.bias', 'lm_head.dense.bias', 'lm_head.bias', 'lm_head.layer_norm.bias', 'roberta.pooler.dense.weight']\n",
      "- This IS expected if you are initializing RobertaForSequenceClassification from the checkpoint of a model trained on another task or with another architecture (e.g. initializing a BertForSequenceClassification model from a BertForPreTraining model).\n",
      "- This IS NOT expected if you are initializing RobertaForSequenceClassification from the checkpoint of a model that you expect to be exactly identical (initializing a BertForSequenceClassification model from a BertForSequenceClassification model).\n",
      "Some weights of RobertaForSequenceClassification were not initialized from the model checkpoint at roberta-base and are newly initialized: ['classifier.out_proj.weight', 'classifier.out_proj.bias', 'classifier.dense.bias', 'classifier.dense.weight']\n",
      "You should probably TRAIN this model on a down-stream task to be able to use it for predictions and inference.\n"
     ]
    }
   ],
   "source": [
    "from transformers import AutoModelForSequenceClassification\n",
    "\n",
    "model = AutoModelForSequenceClassification.from_pretrained(model_name, \n",
    "                                                           num_labels=len(training_label_list),\n",
    "                                                           label2id=label2id_train,\n",
    "                                                           id2label={id: label for label, id in label2id_train.items()})"
   ]
  },
  {
   "cell_type": "code",
   "execution_count": 54,
   "id": "89990229-9392-47aa-ba33-a992ee5d4c18",
   "metadata": {},
   "outputs": [],
   "source": [
    "import sklearn\n",
    "\n",
    "def compute_metrics(pred):\n",
    "    labels = pred.label_ids\n",
    "    print(pred)\n",
    "    try:\n",
    "        preds = pred.predictions.argmax(-1)\n",
    "    except:\n",
    "        preds = pred.predictions[0].argmax(-1)\n",
    "    precision, recall, f1, _ = sklearn.metrics.precision_recall_fscore_support(\n",
    "        labels, preds, average=\"macro\", labels=list(set(labels))\n",
    "    )\n",
    "    print(sklearn.metrics.classification_report(labels, preds, digits=4))\n",
    "    acc = sklearn.metrics.accuracy_score(labels, preds)\n",
    "    return {\"accuracy\": acc, \"f1\": f1, \"precision\": precision, \"recall\": recall}"
   ]
  },
  {
   "cell_type": "code",
   "execution_count": 55,
   "id": "42bd6406-e66f-469e-a6bd-fcbae7e817f6",
   "metadata": {},
   "outputs": [],
   "source": [
    "from transformers import TrainingArguments\n",
    "\n",
    "training_args = TrainingArguments(\n",
    "    output_dir=os.path.join(base_dir,\"saved_model\", \"checkpoint\"),\n",
    "    learning_rate=2e-5,\n",
    "    num_train_epochs=3,\n",
    "    per_device_train_batch_size=16,\n",
    "    per_device_eval_batch_size=16,\n",
    "    weight_decay=0.01,\n",
    "    evaluation_strategy=\"epoch\",\n",
    "    save_strategy=\"epoch\",\n",
    "    metric_for_best_model=\"f1\",\n",
    "    load_best_model_at_end=True,\n",
    "    greater_is_better=True,\n",
    ")"
   ]
  },
  {
   "cell_type": "code",
   "execution_count": 56,
   "id": "9d1597ab-aec4-4610-854e-0856f69bdfdb",
   "metadata": {},
   "outputs": [
    {
     "data": {
      "text/plain": [
       "DatasetDict({\n",
       "    train: Dataset({\n",
       "        features: ['text', 'label', 'input_ids', 'attention_mask'],\n",
       "        num_rows: 5080\n",
       "    })\n",
       "    validation: Dataset({\n",
       "        features: ['text', 'label', 'input_ids', 'attention_mask'],\n",
       "        num_rows: 3387\n",
       "    })\n",
       "})"
      ]
     },
     "execution_count": 56,
     "metadata": {},
     "output_type": "execute_result"
    }
   ],
   "source": [
    "tokenized_datasets"
   ]
  },
  {
   "cell_type": "code",
   "execution_count": 57,
   "id": "b5ae9d65-2f98-4b15-a4e9-804855dafcc9",
   "metadata": {},
   "outputs": [],
   "source": [
    "from transformers import Trainer\n",
    "\n",
    "trainer = Trainer(\n",
    "    model=model,\n",
    "    args=training_args,\n",
    "    train_dataset=tokenized_datasets[\"train\"],\n",
    "    eval_dataset=tokenized_datasets[\"validation\"],\n",
    "    tokenizer=tokenizer,\n",
    "    compute_metrics=compute_metrics,\n",
    ")"
   ]
  },
  {
   "cell_type": "code",
   "execution_count": 58,
   "id": "1a7ade0a-cf33-4360-9433-90e1925be702",
   "metadata": {},
   "outputs": [
    {
     "name": "stderr",
     "output_type": "stream",
     "text": [
      "The following columns in the training set don't have a corresponding argument in `RobertaForSequenceClassification.forward` and have been ignored: text. If text are not expected by `RobertaForSequenceClassification.forward`,  you can safely ignore this message.\n",
      "/home/students/s289159/.conda/envs/airbnb-XAI-env/lib/python3.10/site-packages/transformers/optimization.py:306: FutureWarning: This implementation of AdamW is deprecated and will be removed in a future version. Use the PyTorch implementation torch.optim.AdamW instead, or set `no_deprecation_warning=True` to disable this warning\n",
      "  warnings.warn(\n",
      "***** Running training *****\n",
      "  Num examples = 5080\n",
      "  Num Epochs = 3\n",
      "  Instantaneous batch size per device = 16\n",
      "  Total train batch size (w. parallel, distributed & accumulation) = 16\n",
      "  Gradient Accumulation steps = 1\n",
      "  Total optimization steps = 954\n"
     ]
    },
    {
     "data": {
      "text/html": [
       "\n",
       "    <div>\n",
       "      \n",
       "      <progress value='954' max='954' style='width:300px; height:20px; vertical-align: middle;'></progress>\n",
       "      [954/954 10:16, Epoch 3/3]\n",
       "    </div>\n",
       "    <table border=\"1\" class=\"dataframe\">\n",
       "  <thead>\n",
       " <tr style=\"text-align: left;\">\n",
       "      <th>Epoch</th>\n",
       "      <th>Training Loss</th>\n",
       "      <th>Validation Loss</th>\n",
       "      <th>Accuracy</th>\n",
       "      <th>F1</th>\n",
       "      <th>Precision</th>\n",
       "      <th>Recall</th>\n",
       "    </tr>\n",
       "  </thead>\n",
       "  <tbody>\n",
       "    <tr>\n",
       "      <td>1</td>\n",
       "      <td>No log</td>\n",
       "      <td>0.385292</td>\n",
       "      <td>0.870092</td>\n",
       "      <td>0.863450</td>\n",
       "      <td>0.871554</td>\n",
       "      <td>0.860542</td>\n",
       "    </tr>\n",
       "    <tr>\n",
       "      <td>2</td>\n",
       "      <td>0.478000</td>\n",
       "      <td>0.424909</td>\n",
       "      <td>0.876882</td>\n",
       "      <td>0.869762</td>\n",
       "      <td>0.870678</td>\n",
       "      <td>0.871830</td>\n",
       "    </tr>\n",
       "    <tr>\n",
       "      <td>3</td>\n",
       "      <td>0.478000</td>\n",
       "      <td>0.451417</td>\n",
       "      <td>0.886035</td>\n",
       "      <td>0.876165</td>\n",
       "      <td>0.877543</td>\n",
       "      <td>0.875061</td>\n",
       "    </tr>\n",
       "  </tbody>\n",
       "</table><p>"
      ],
      "text/plain": [
       "<IPython.core.display.HTML object>"
      ]
     },
     "metadata": {},
     "output_type": "display_data"
    },
    {
     "name": "stderr",
     "output_type": "stream",
     "text": [
      "The following columns in the evaluation set don't have a corresponding argument in `RobertaForSequenceClassification.forward` and have been ignored: text. If text are not expected by `RobertaForSequenceClassification.forward`,  you can safely ignore this message.\n",
      "***** Running Evaluation *****\n",
      "  Num examples = 3387\n",
      "  Batch size = 16\n"
     ]
    },
    {
     "name": "stdout",
     "output_type": "stream",
     "text": [
      "<transformers.trainer_utils.EvalPrediction object at 0x7feed218d5a0>\n",
      "              precision    recall  f1-score   support\n",
      "\n",
      "           0     0.9202    0.9020    0.9110      1112\n",
      "           1     0.8610    0.8496    0.8552       226\n",
      "           2     0.7970    0.9057    0.8479       594\n",
      "           3     0.9508    0.7755    0.8543       548\n",
      "           4     0.8288    0.8699    0.8488       907\n",
      "\n",
      "    accuracy                         0.8701      3387\n",
      "   macro avg     0.8716    0.8605    0.8635      3387\n",
      "weighted avg     0.8751    0.8701    0.8704      3387\n",
      "\n"
     ]
    },
    {
     "name": "stderr",
     "output_type": "stream",
     "text": [
      "Saving model checkpoint to use_case/hf-roberta-20-newsgroups-macroclass-drift-recreation-vldb/saved_model/checkpoint/checkpoint-318\n",
      "Configuration saved in use_case/hf-roberta-20-newsgroups-macroclass-drift-recreation-vldb/saved_model/checkpoint/checkpoint-318/config.json\n",
      "Model weights saved in use_case/hf-roberta-20-newsgroups-macroclass-drift-recreation-vldb/saved_model/checkpoint/checkpoint-318/pytorch_model.bin\n",
      "tokenizer config file saved in use_case/hf-roberta-20-newsgroups-macroclass-drift-recreation-vldb/saved_model/checkpoint/checkpoint-318/tokenizer_config.json\n",
      "Special tokens file saved in use_case/hf-roberta-20-newsgroups-macroclass-drift-recreation-vldb/saved_model/checkpoint/checkpoint-318/special_tokens_map.json\n",
      "The following columns in the evaluation set don't have a corresponding argument in `RobertaForSequenceClassification.forward` and have been ignored: text. If text are not expected by `RobertaForSequenceClassification.forward`,  you can safely ignore this message.\n",
      "***** Running Evaluation *****\n",
      "  Num examples = 3387\n",
      "  Batch size = 16\n"
     ]
    },
    {
     "name": "stdout",
     "output_type": "stream",
     "text": [
      "<transformers.trainer_utils.EvalPrediction object at 0x7feed22a3be0>\n",
      "              precision    recall  f1-score   support\n",
      "\n",
      "           0     0.8684    0.9550    0.9096      1112\n",
      "           1     0.8270    0.8673    0.8467       226\n",
      "           2     0.8805    0.8434    0.8616       594\n",
      "           3     0.8702    0.9051    0.8873       548\n",
      "           4     0.9074    0.7883    0.8437       907\n",
      "\n",
      "    accuracy                         0.8769      3387\n",
      "   macro avg     0.8707    0.8718    0.8698      3387\n",
      "weighted avg     0.8785    0.8769    0.8757      3387\n",
      "\n"
     ]
    },
    {
     "name": "stderr",
     "output_type": "stream",
     "text": [
      "Saving model checkpoint to use_case/hf-roberta-20-newsgroups-macroclass-drift-recreation-vldb/saved_model/checkpoint/checkpoint-636\n",
      "Configuration saved in use_case/hf-roberta-20-newsgroups-macroclass-drift-recreation-vldb/saved_model/checkpoint/checkpoint-636/config.json\n",
      "Model weights saved in use_case/hf-roberta-20-newsgroups-macroclass-drift-recreation-vldb/saved_model/checkpoint/checkpoint-636/pytorch_model.bin\n",
      "tokenizer config file saved in use_case/hf-roberta-20-newsgroups-macroclass-drift-recreation-vldb/saved_model/checkpoint/checkpoint-636/tokenizer_config.json\n",
      "Special tokens file saved in use_case/hf-roberta-20-newsgroups-macroclass-drift-recreation-vldb/saved_model/checkpoint/checkpoint-636/special_tokens_map.json\n",
      "The following columns in the evaluation set don't have a corresponding argument in `RobertaForSequenceClassification.forward` and have been ignored: text. If text are not expected by `RobertaForSequenceClassification.forward`,  you can safely ignore this message.\n",
      "***** Running Evaluation *****\n",
      "  Num examples = 3387\n",
      "  Batch size = 16\n"
     ]
    },
    {
     "name": "stdout",
     "output_type": "stream",
     "text": [
      "<transformers.trainer_utils.EvalPrediction object at 0x7feed218d510>\n",
      "              precision    recall  f1-score   support\n",
      "\n",
      "           0     0.9071    0.9397    0.9231      1112\n",
      "           1     0.8489    0.8451    0.8470       226\n",
      "           2     0.8612    0.8670    0.8641       594\n",
      "           3     0.8852    0.8723    0.8787       548\n",
      "           4     0.8853    0.8512    0.8679       907\n",
      "\n",
      "    accuracy                         0.8860      3387\n",
      "   macro avg     0.8775    0.8751    0.8762      3387\n",
      "weighted avg     0.8858    0.8860    0.8857      3387\n",
      "\n"
     ]
    },
    {
     "name": "stderr",
     "output_type": "stream",
     "text": [
      "Saving model checkpoint to use_case/hf-roberta-20-newsgroups-macroclass-drift-recreation-vldb/saved_model/checkpoint/checkpoint-954\n",
      "Configuration saved in use_case/hf-roberta-20-newsgroups-macroclass-drift-recreation-vldb/saved_model/checkpoint/checkpoint-954/config.json\n",
      "Model weights saved in use_case/hf-roberta-20-newsgroups-macroclass-drift-recreation-vldb/saved_model/checkpoint/checkpoint-954/pytorch_model.bin\n",
      "tokenizer config file saved in use_case/hf-roberta-20-newsgroups-macroclass-drift-recreation-vldb/saved_model/checkpoint/checkpoint-954/tokenizer_config.json\n",
      "Special tokens file saved in use_case/hf-roberta-20-newsgroups-macroclass-drift-recreation-vldb/saved_model/checkpoint/checkpoint-954/special_tokens_map.json\n",
      "\n",
      "\n",
      "Training completed. Do not forget to share your model on huggingface.co/models =)\n",
      "\n",
      "\n",
      "Loading best model from use_case/hf-roberta-20-newsgroups-macroclass-drift-recreation-vldb/saved_model/checkpoint/checkpoint-954 (score: 0.8761650549998989).\n"
     ]
    },
    {
     "data": {
      "text/plain": [
       "TrainOutput(global_step=954, training_loss=0.34262013785244283, metrics={'train_runtime': 616.766, 'train_samples_per_second': 24.71, 'train_steps_per_second': 1.547, 'total_flos': 4009920491151360.0, 'train_loss': 0.34262013785244283, 'epoch': 3.0})"
      ]
     },
     "execution_count": 58,
     "metadata": {},
     "output_type": "execute_result"
    }
   ],
   "source": [
    "trainer.train()"
   ]
  },
  {
   "cell_type": "code",
   "execution_count": 59,
   "id": "2dc31fa1-6269-411b-8424-6a00e7207a41",
   "metadata": {},
   "outputs": [
    {
     "name": "stderr",
     "output_type": "stream",
     "text": [
      "Saving model checkpoint to use_case/hf-roberta-20-newsgroups-macroclass-drift-recreation-vldb/saved_model/best_model\n",
      "Configuration saved in use_case/hf-roberta-20-newsgroups-macroclass-drift-recreation-vldb/saved_model/best_model/config.json\n",
      "Model weights saved in use_case/hf-roberta-20-newsgroups-macroclass-drift-recreation-vldb/saved_model/best_model/pytorch_model.bin\n",
      "tokenizer config file saved in use_case/hf-roberta-20-newsgroups-macroclass-drift-recreation-vldb/saved_model/best_model/tokenizer_config.json\n",
      "Special tokens file saved in use_case/hf-roberta-20-newsgroups-macroclass-drift-recreation-vldb/saved_model/best_model/special_tokens_map.json\n"
     ]
    }
   ],
   "source": [
    "trainer.save_model(os.path.join(base_dir,\"saved_model\", \"best_model\"))"
   ]
  },
  {
   "cell_type": "code",
   "execution_count": 60,
   "id": "b043c8c2-f3a3-478c-bf33-51ff7858c808",
   "metadata": {},
   "outputs": [
    {
     "name": "stderr",
     "output_type": "stream",
     "text": [
      "The following columns in the evaluation set don't have a corresponding argument in `RobertaForSequenceClassification.forward` and have been ignored: text. If text are not expected by `RobertaForSequenceClassification.forward`,  you can safely ignore this message.\n",
      "***** Running Evaluation *****\n",
      "  Num examples = 3387\n",
      "  Batch size = 16\n"
     ]
    },
    {
     "name": "stdout",
     "output_type": "stream",
     "text": [
      "\n",
      " ----------------- EVALUATION BEST MODEL ON VALIDATION SET ----------------- \n",
      "\n"
     ]
    },
    {
     "data": {
      "text/html": [
       "\n",
       "    <div>\n",
       "      \n",
       "      <progress value='212' max='212' style='width:300px; height:20px; vertical-align: middle;'></progress>\n",
       "      [212/212 00:36]\n",
       "    </div>\n",
       "    "
      ],
      "text/plain": [
       "<IPython.core.display.HTML object>"
      ]
     },
     "metadata": {},
     "output_type": "display_data"
    },
    {
     "name": "stdout",
     "output_type": "stream",
     "text": [
      "<transformers.trainer_utils.EvalPrediction object at 0x7feed22eab00>\n",
      "              precision    recall  f1-score   support\n",
      "\n",
      "           0     0.9071    0.9397    0.9231      1112\n",
      "           1     0.8489    0.8451    0.8470       226\n",
      "           2     0.8612    0.8670    0.8641       594\n",
      "           3     0.8852    0.8723    0.8787       548\n",
      "           4     0.8853    0.8512    0.8679       907\n",
      "\n",
      "    accuracy                         0.8860      3387\n",
      "   macro avg     0.8775    0.8751    0.8762      3387\n",
      "weighted avg     0.8858    0.8860    0.8857      3387\n",
      "\n",
      "{'eval_loss': 0.4514174461364746, 'eval_accuracy': 0.8860348390906407, 'eval_f1': 0.8761650549998989, 'eval_precision': 0.8775434487849975, 'eval_recall': 0.8750609496303421, 'eval_runtime': 36.5231, 'eval_samples_per_second': 92.736, 'eval_steps_per_second': 5.805, 'epoch': 3.0}\n"
     ]
    }
   ],
   "source": [
    "print(\n",
    "    \"\\n ----------------- EVALUATION BEST MODEL ON VALIDATION SET ----------------- \\n\"\n",
    ")\n",
    "print(trainer.evaluate())"
   ]
  },
  {
   "cell_type": "code",
   "execution_count": null,
   "id": "dedb9690-9489-4c7c-bd3a-d4ff1e5a2ccb",
   "metadata": {},
   "outputs": [],
   "source": []
  }
 ],
 "metadata": {
  "kernelspec": {
   "display_name": "airbnb-XAI-env",
   "language": "python",
   "name": "airbnb-xai-env"
  },
  "language_info": {
   "codemirror_mode": {
    "name": "ipython",
    "version": 3
   },
   "file_extension": ".py",
   "mimetype": "text/x-python",
   "name": "python",
   "nbconvert_exporter": "python",
   "pygments_lexer": "ipython3",
   "version": "3.10.4"
  }
 },
 "nbformat": 4,
 "nbformat_minor": 5
}
