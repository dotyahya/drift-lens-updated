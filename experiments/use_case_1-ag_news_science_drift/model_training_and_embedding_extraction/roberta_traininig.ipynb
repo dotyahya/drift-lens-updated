{
 "cells": [
  {
   "cell_type": "code",
   "execution_count": 1,
   "id": "ffeb0708-249a-4b63-b2f2-85ea988cd84a",
   "metadata": {},
   "outputs": [],
   "source": [
    "id2label = {'0': \"World\",\n",
    "            '1': \"Sports\",\n",
    "            '2': \"Business\",\n",
    "            '3': \"Sci/Tech\"}"
   ]
  },
  {
   "cell_type": "code",
   "execution_count": 2,
   "id": "c31cc795-edc6-4077-9cb3-9c49aebeda98",
   "metadata": {},
   "outputs": [],
   "source": [
    "import pandas as pd\n",
    "import numpy as np\n",
    "import os"
   ]
  },
  {
   "cell_type": "code",
   "execution_count": 3,
   "id": "ba0b990e-16c2-4bab-8e63-d2af9ccb315a",
   "metadata": {},
   "outputs": [],
   "source": [
    "base_dir_bert = \"use_case/hf-bert-ag_news-0-1-2-split66\"\n",
    "\n",
    "df_train_filtered = pd.read_csv(os.path.join(base_dir_bert,\"dataset\",\"df_train_0_1_2_split_66.csv\"))\n",
    "df_test_filtered = pd.read_csv(os.path.join(base_dir_bert,\"dataset\",\"df_test_0_1_2_split_66.csv\"))\n",
    "df_new_unseen = pd.read_csv(os.path.join(base_dir_bert,\"dataset\",\"df_new_unseen_0_1_2_split_66.csv\"))\n",
    "df_drifted = pd.read_csv(os.path.join(base_dir_bert,\"dataset\",\"df_drifted_3_split_66.csv\"))"
   ]
  },
  {
   "cell_type": "code",
   "execution_count": 4,
   "id": "68fb4e64-c558-4fce-af02-280b2a8cca72",
   "metadata": {},
   "outputs": [],
   "source": [
    "import re\n",
    "\n",
    "def clean_text(text):\n",
    "    text = re.sub(\"@\\S+\", \" \", text) # Remove Mentions\n",
    "    text = re.sub(\"https*\\S+\", \" \", text) # Remove URL\n",
    "    text = re.sub(\"#\\S+\", \" \", text) # Remove Hastags\n",
    "    text = re.sub('&lt;/?[a-z]+&gt;', '', text) # Remove special Charaters\n",
    "    text = re.sub('#39', ' ', text) # Remove special Charaters\n",
    "    text = re.sub('<.*?>', '', text) # Remove html\n",
    "    text = re.sub(' +', ' ', text) # Merge multiple blank spaces\n",
    "    return text\n",
    "\n",
    "def get_label_name(label_id):\n",
    "    labels = [\"World\", \"Sports\", \"Business\", \"Sci/Tech\"]\n",
    "    return labels[label_id]"
   ]
  },
  {
   "cell_type": "code",
   "execution_count": 5,
   "id": "2c4763bb-ef23-4ce8-98a5-b585cf91c7e3",
   "metadata": {},
   "outputs": [],
   "source": [
    "label_list = [0, 1, 2, 3]\n",
    "training_label_list = [0, 1, 2]\n",
    "drift_label_list = [3]"
   ]
  },
  {
   "cell_type": "code",
   "execution_count": 6,
   "id": "acce3a28-5c0c-4317-a76c-1c16e1dc1c0a",
   "metadata": {},
   "outputs": [],
   "source": [
    "import os\n",
    "\n",
    "base_dir = \"use_case/hf-roberta-ag_news-0-1-2-split66\"\n",
    "\n",
    "df_train_filtered.to_csv(os.path.join(base_dir,\"dataset\",\"df_train_0_1_2_split_66.csv\"))\n",
    "df_test_filtered.to_csv(os.path.join(base_dir,\"dataset\",\"df_test_0_1_2_split_66.csv\"))\n",
    "df_new_unseen.to_csv(os.path.join(base_dir,\"dataset\",\"df_new_unseen_0_1_2_split_66.csv\"))\n",
    "df_drifted.to_csv(os.path.join(base_dir,\"dataset\",\"df_drifted_3_split_66.csv\"))"
   ]
  },
  {
   "cell_type": "code",
   "execution_count": 7,
   "id": "5ccc7d1f-bff2-4e5c-bab3-cd251b35f074",
   "metadata": {},
   "outputs": [
    {
     "name": "stdout",
     "output_type": "stream",
     "text": [
      "(59480, 4)\n",
      "(5700, 4)\n",
      "(30520, 4)\n"
     ]
    }
   ],
   "source": [
    "print(df_train_filtered.shape)\n",
    "print(df_test_filtered.shape)\n",
    "print(df_new_unseen.shape)\n"
   ]
  },
  {
   "cell_type": "code",
   "execution_count": 8,
   "id": "68578290-ad25-4120-9644-eb07a6d0b12b",
   "metadata": {},
   "outputs": [],
   "source": [
    "model_name = \"roberta-base\""
   ]
  },
  {
   "cell_type": "code",
   "execution_count": 9,
   "id": "0dbe4ed3-dad6-4758-8933-bf0f44c4d8ab",
   "metadata": {},
   "outputs": [
    {
     "name": "stderr",
     "output_type": "stream",
     "text": [
      "/home/students/s289159/.conda/envs/audio-env/lib/python3.9/site-packages/tqdm/auto.py:22: TqdmWarning: IProgress not found. Please update jupyter and ipywidgets. See https://ipywidgets.readthedocs.io/en/stable/user_install.html\n",
      "  from .autonotebook import tqdm as notebook_tqdm\n"
     ]
    }
   ],
   "source": [
    "import datasets\n",
    "from datasets import Dataset, DatasetDict\n",
    "\n",
    "\n",
    "train_dataset = Dataset.from_pandas(df_train_filtered)\n",
    "validation_dataset = Dataset.from_pandas(df_test_filtered)\n",
    "\n",
    "\n",
    "ds = DatasetDict()\n",
    "\n",
    "ds['train'] = train_dataset.shuffle()\n",
    "ds['validation'] = validation_dataset.shuffle()"
   ]
  },
  {
   "cell_type": "code",
   "execution_count": 10,
   "id": "28dd6c89-7d52-4c7a-9f47-0caa2203981b",
   "metadata": {},
   "outputs": [],
   "source": [
    "from transformers import AutoTokenizer\n",
    "\n",
    "tokenizer = AutoTokenizer.from_pretrained(model_name, do_lower_case=True)\n"
   ]
  },
  {
   "cell_type": "code",
   "execution_count": 11,
   "id": "a344b6b0-a510-45a1-a565-e2e177179fd7",
   "metadata": {},
   "outputs": [
    {
     "name": "stderr",
     "output_type": "stream",
     "text": [
      "100%|██████████| 60/60 [00:10<00:00,  5.72ba/s]\n",
      "100%|██████████| 6/6 [00:00<00:00,  6.42ba/s]\n"
     ]
    }
   ],
   "source": [
    "def tokenize_function(examples):\n",
    "    return tokenizer(examples[\"text\"], padding=\"max_length\", truncation=True)\n",
    "\n",
    "\n",
    "tokenized_datasets = ds.map(tokenize_function, batched=True)"
   ]
  },
  {
   "cell_type": "code",
   "execution_count": 12,
   "id": "5284a276-c389-4f39-ae02-2b4132707443",
   "metadata": {},
   "outputs": [],
   "source": [
    "label2id_train = {\"World\": 0,\n",
    "                  \"Sports\": 1,\n",
    "                  \"Business\": 2}"
   ]
  },
  {
   "cell_type": "code",
   "execution_count": 13,
   "id": "4f7b525e-199f-4f8e-89bf-93ceea1535b0",
   "metadata": {},
   "outputs": [
    {
     "name": "stderr",
     "output_type": "stream",
     "text": [
      "Some weights of the model checkpoint at roberta-base were not used when initializing RobertaForSequenceClassification: ['lm_head.decoder.weight', 'roberta.pooler.dense.weight', 'lm_head.layer_norm.weight', 'roberta.pooler.dense.bias', 'lm_head.dense.weight', 'lm_head.layer_norm.bias', 'lm_head.dense.bias', 'lm_head.bias']\n",
      "- This IS expected if you are initializing RobertaForSequenceClassification from the checkpoint of a model trained on another task or with another architecture (e.g. initializing a BertForSequenceClassification model from a BertForPreTraining model).\n",
      "- This IS NOT expected if you are initializing RobertaForSequenceClassification from the checkpoint of a model that you expect to be exactly identical (initializing a BertForSequenceClassification model from a BertForSequenceClassification model).\n",
      "Some weights of RobertaForSequenceClassification were not initialized from the model checkpoint at roberta-base and are newly initialized: ['classifier.dense.weight', 'classifier.out_proj.bias', 'classifier.out_proj.weight', 'classifier.dense.bias']\n",
      "You should probably TRAIN this model on a down-stream task to be able to use it for predictions and inference.\n"
     ]
    }
   ],
   "source": [
    "from transformers import AutoModelForSequenceClassification\n",
    "\n",
    "model = AutoModelForSequenceClassification.from_pretrained(model_name, \n",
    "                                                           num_labels=len(training_label_list),\n",
    "                                                           label2id=label2id_train,\n",
    "                                                           id2label={id: label for label, id in label2id_train.items()}\n",
    "                                                          )"
   ]
  },
  {
   "cell_type": "code",
   "execution_count": 14,
   "id": "89990229-9392-47aa-ba33-a992ee5d4c18",
   "metadata": {},
   "outputs": [],
   "source": [
    "import sklearn\n",
    "\n",
    "def compute_metrics(pred):\n",
    "    labels = pred.label_ids\n",
    "    print(pred)\n",
    "    try:\n",
    "        preds = pred.predictions.argmax(-1)\n",
    "    except:\n",
    "        preds = pred.predictions[0].argmax(-1)\n",
    "    precision, recall, f1, _ = sklearn.metrics.precision_recall_fscore_support(\n",
    "        labels, preds, average=\"macro\", labels=list(set(labels))\n",
    "    )\n",
    "    print(sklearn.metrics.classification_report(labels, preds, digits=4))\n",
    "    acc = sklearn.metrics.accuracy_score(labels, preds)\n",
    "    return {\"accuracy\": acc, \"f1\": f1, \"precision\": precision, \"recall\": recall}"
   ]
  },
  {
   "cell_type": "code",
   "execution_count": 15,
   "id": "42bd6406-e66f-469e-a6bd-fcbae7e817f6",
   "metadata": {},
   "outputs": [],
   "source": [
    "from transformers import TrainingArguments\n",
    "\n",
    "training_args = TrainingArguments(\n",
    "    output_dir=os.path.join(base_dir,\"saved_model\", \"checkpoint\"),\n",
    "    learning_rate=2e-5,\n",
    "    num_train_epochs=3,\n",
    "    per_device_train_batch_size=16,\n",
    "    per_device_eval_batch_size=16,\n",
    "    weight_decay=0.01,\n",
    "    evaluation_strategy=\"epoch\",\n",
    "    save_strategy=\"epoch\",\n",
    "    metric_for_best_model=\"f1\",\n",
    "    load_best_model_at_end=True,\n",
    "    greater_is_better=True,\n",
    ")"
   ]
  },
  {
   "cell_type": "code",
   "execution_count": 16,
   "id": "9d1597ab-aec4-4610-854e-0856f69bdfdb",
   "metadata": {},
   "outputs": [
    {
     "data": {
      "text/plain": [
       "DatasetDict({\n",
       "    train: Dataset({\n",
       "        features: ['Unnamed: 0', 'text', 'label', 'id', 'input_ids', 'attention_mask'],\n",
       "        num_rows: 59480\n",
       "    })\n",
       "    validation: Dataset({\n",
       "        features: ['Unnamed: 0', 'text', 'label', 'id', 'input_ids', 'attention_mask'],\n",
       "        num_rows: 5700\n",
       "    })\n",
       "})"
      ]
     },
     "execution_count": 16,
     "metadata": {},
     "output_type": "execute_result"
    }
   ],
   "source": [
    "tokenized_datasets"
   ]
  },
  {
   "cell_type": "code",
   "execution_count": 17,
   "id": "b5ae9d65-2f98-4b15-a4e9-804855dafcc9",
   "metadata": {},
   "outputs": [],
   "source": [
    "from transformers import Trainer\n",
    "\n",
    "trainer = Trainer(\n",
    "    model=model,\n",
    "    args=training_args,\n",
    "    train_dataset=tokenized_datasets[\"train\"],\n",
    "    eval_dataset=tokenized_datasets[\"validation\"],\n",
    "    tokenizer=tokenizer,\n",
    "    compute_metrics=compute_metrics,\n",
    ")"
   ]
  },
  {
   "cell_type": "code",
   "execution_count": 18,
   "id": "1a7ade0a-cf33-4360-9433-90e1925be702",
   "metadata": {},
   "outputs": [
    {
     "name": "stderr",
     "output_type": "stream",
     "text": [
      "The following columns in the training set don't have a corresponding argument in `RobertaForSequenceClassification.forward` and have been ignored: Unnamed: 0, text, id. If Unnamed: 0, text, id are not expected by `RobertaForSequenceClassification.forward`,  you can safely ignore this message.\n",
      "/home/students/s289159/.conda/envs/audio-env/lib/python3.9/site-packages/transformers/optimization.py:306: FutureWarning: This implementation of AdamW is deprecated and will be removed in a future version. Use the PyTorch implementation torch.optim.AdamW instead, or set `no_deprecation_warning=True` to disable this warning\n",
      "  warnings.warn(\n",
      "***** Running training *****\n",
      "  Num examples = 59480\n",
      "  Num Epochs = 3\n",
      "  Instantaneous batch size per device = 16\n",
      "  Total train batch size (w. parallel, distributed & accumulation) = 16\n",
      "  Gradient Accumulation steps = 1\n",
      "  Total optimization steps = 11154\n"
     ]
    },
    {
     "data": {
      "text/html": [
       "\n",
       "    <div>\n",
       "      \n",
       "      <progress value='11154' max='11154' style='width:300px; height:20px; vertical-align: middle;'></progress>\n",
       "      [11154/11154 1:37:51, Epoch 3/3]\n",
       "    </div>\n",
       "    <table border=\"1\" class=\"dataframe\">\n",
       "  <thead>\n",
       " <tr style=\"text-align: left;\">\n",
       "      <th>Epoch</th>\n",
       "      <th>Training Loss</th>\n",
       "      <th>Validation Loss</th>\n",
       "      <th>Accuracy</th>\n",
       "      <th>F1</th>\n",
       "      <th>Precision</th>\n",
       "      <th>Recall</th>\n",
       "    </tr>\n",
       "  </thead>\n",
       "  <tbody>\n",
       "    <tr>\n",
       "      <td>1</td>\n",
       "      <td>0.116200</td>\n",
       "      <td>0.122891</td>\n",
       "      <td>0.970175</td>\n",
       "      <td>0.970247</td>\n",
       "      <td>0.970466</td>\n",
       "      <td>0.970175</td>\n",
       "    </tr>\n",
       "    <tr>\n",
       "      <td>2</td>\n",
       "      <td>0.081600</td>\n",
       "      <td>0.119653</td>\n",
       "      <td>0.975439</td>\n",
       "      <td>0.975448</td>\n",
       "      <td>0.975482</td>\n",
       "      <td>0.975439</td>\n",
       "    </tr>\n",
       "    <tr>\n",
       "      <td>3</td>\n",
       "      <td>0.051400</td>\n",
       "      <td>0.128941</td>\n",
       "      <td>0.974386</td>\n",
       "      <td>0.974387</td>\n",
       "      <td>0.974395</td>\n",
       "      <td>0.974386</td>\n",
       "    </tr>\n",
       "  </tbody>\n",
       "</table><p>"
      ],
      "text/plain": [
       "<IPython.core.display.HTML object>"
      ]
     },
     "metadata": {},
     "output_type": "display_data"
    },
    {
     "name": "stderr",
     "output_type": "stream",
     "text": [
      "The following columns in the evaluation set don't have a corresponding argument in `RobertaForSequenceClassification.forward` and have been ignored: Unnamed: 0, text, id. If Unnamed: 0, text, id are not expected by `RobertaForSequenceClassification.forward`,  you can safely ignore this message.\n",
      "***** Running Evaluation *****\n",
      "  Num examples = 5700\n",
      "  Batch size = 16\n"
     ]
    },
    {
     "name": "stdout",
     "output_type": "stream",
     "text": [
      "<transformers.trainer_utils.EvalPrediction object at 0x7fdb93243fa0>\n",
      "              precision    recall  f1-score   support\n",
      "\n",
      "           0     0.9496    0.9726    0.9610      1900\n",
      "           1     0.9930    0.9763    0.9846      1900\n",
      "           2     0.9687    0.9616    0.9651      1900\n",
      "\n",
      "    accuracy                         0.9702      5700\n",
      "   macro avg     0.9705    0.9702    0.9702      5700\n",
      "weighted avg     0.9705    0.9702    0.9702      5700\n",
      "\n"
     ]
    },
    {
     "name": "stderr",
     "output_type": "stream",
     "text": [
      "Saving model checkpoint to use_case/hf-roberta-ag_news-0-1-2-split66/saved_model/checkpoint/checkpoint-3718\n",
      "Configuration saved in use_case/hf-roberta-ag_news-0-1-2-split66/saved_model/checkpoint/checkpoint-3718/config.json\n",
      "Model weights saved in use_case/hf-roberta-ag_news-0-1-2-split66/saved_model/checkpoint/checkpoint-3718/pytorch_model.bin\n",
      "tokenizer config file saved in use_case/hf-roberta-ag_news-0-1-2-split66/saved_model/checkpoint/checkpoint-3718/tokenizer_config.json\n",
      "Special tokens file saved in use_case/hf-roberta-ag_news-0-1-2-split66/saved_model/checkpoint/checkpoint-3718/special_tokens_map.json\n",
      "The following columns in the evaluation set don't have a corresponding argument in `RobertaForSequenceClassification.forward` and have been ignored: Unnamed: 0, text, id. If Unnamed: 0, text, id are not expected by `RobertaForSequenceClassification.forward`,  you can safely ignore this message.\n",
      "***** Running Evaluation *****\n",
      "  Num examples = 5700\n",
      "  Batch size = 16\n"
     ]
    },
    {
     "name": "stdout",
     "output_type": "stream",
     "text": [
      "<transformers.trainer_utils.EvalPrediction object at 0x7fdb946fec10>\n",
      "              precision    recall  f1-score   support\n",
      "\n",
      "           0     0.9709    0.9647    0.9678      1900\n",
      "           1     0.9905    0.9868    0.9887      1900\n",
      "           2     0.9651    0.9747    0.9699      1900\n",
      "\n",
      "    accuracy                         0.9754      5700\n",
      "   macro avg     0.9755    0.9754    0.9754      5700\n",
      "weighted avg     0.9755    0.9754    0.9754      5700\n",
      "\n"
     ]
    },
    {
     "name": "stderr",
     "output_type": "stream",
     "text": [
      "Saving model checkpoint to use_case/hf-roberta-ag_news-0-1-2-split66/saved_model/checkpoint/checkpoint-7436\n",
      "Configuration saved in use_case/hf-roberta-ag_news-0-1-2-split66/saved_model/checkpoint/checkpoint-7436/config.json\n",
      "Model weights saved in use_case/hf-roberta-ag_news-0-1-2-split66/saved_model/checkpoint/checkpoint-7436/pytorch_model.bin\n",
      "tokenizer config file saved in use_case/hf-roberta-ag_news-0-1-2-split66/saved_model/checkpoint/checkpoint-7436/tokenizer_config.json\n",
      "Special tokens file saved in use_case/hf-roberta-ag_news-0-1-2-split66/saved_model/checkpoint/checkpoint-7436/special_tokens_map.json\n",
      "The following columns in the evaluation set don't have a corresponding argument in `RobertaForSequenceClassification.forward` and have been ignored: Unnamed: 0, text, id. If Unnamed: 0, text, id are not expected by `RobertaForSequenceClassification.forward`,  you can safely ignore this message.\n",
      "***** Running Evaluation *****\n",
      "  Num examples = 5700\n",
      "  Batch size = 16\n"
     ]
    },
    {
     "name": "stdout",
     "output_type": "stream",
     "text": [
      "<transformers.trainer_utils.EvalPrediction object at 0x7fdb93243400>\n",
      "              precision    recall  f1-score   support\n",
      "\n",
      "           0     0.9639    0.9684    0.9661      1900\n",
      "           1     0.9895    0.9895    0.9895      1900\n",
      "           2     0.9699    0.9653    0.9676      1900\n",
      "\n",
      "    accuracy                         0.9744      5700\n",
      "   macro avg     0.9744    0.9744    0.9744      5700\n",
      "weighted avg     0.9744    0.9744    0.9744      5700\n",
      "\n"
     ]
    },
    {
     "name": "stderr",
     "output_type": "stream",
     "text": [
      "Saving model checkpoint to use_case/hf-roberta-ag_news-0-1-2-split66/saved_model/checkpoint/checkpoint-11154\n",
      "Configuration saved in use_case/hf-roberta-ag_news-0-1-2-split66/saved_model/checkpoint/checkpoint-11154/config.json\n",
      "Model weights saved in use_case/hf-roberta-ag_news-0-1-2-split66/saved_model/checkpoint/checkpoint-11154/pytorch_model.bin\n",
      "tokenizer config file saved in use_case/hf-roberta-ag_news-0-1-2-split66/saved_model/checkpoint/checkpoint-11154/tokenizer_config.json\n",
      "Special tokens file saved in use_case/hf-roberta-ag_news-0-1-2-split66/saved_model/checkpoint/checkpoint-11154/special_tokens_map.json\n",
      "\n",
      "\n",
      "Training completed. Do not forget to share your model on huggingface.co/models =)\n",
      "\n",
      "\n",
      "Loading best model from use_case/hf-roberta-ag_news-0-1-2-split66/saved_model/checkpoint/checkpoint-7436 (score: 0.9754479209615114).\n"
     ]
    },
    {
     "data": {
      "text/plain": [
       "TrainOutput(global_step=11154, training_loss=0.09444044934649481, metrics={'train_runtime': 5872.0206, 'train_samples_per_second': 30.388, 'train_steps_per_second': 1.9, 'total_flos': 4.694995825938432e+16, 'train_loss': 0.09444044934649481, 'epoch': 3.0})"
      ]
     },
     "execution_count": 18,
     "metadata": {},
     "output_type": "execute_result"
    }
   ],
   "source": [
    "trainer.train()"
   ]
  },
  {
   "cell_type": "code",
   "execution_count": 19,
   "id": "2dc31fa1-6269-411b-8424-6a00e7207a41",
   "metadata": {},
   "outputs": [
    {
     "name": "stderr",
     "output_type": "stream",
     "text": [
      "Saving model checkpoint to use_case/hf-roberta-ag_news-0-1-2-split66/saved_model/best_model\n",
      "Configuration saved in use_case/hf-roberta-ag_news-0-1-2-split66/saved_model/best_model/config.json\n",
      "Model weights saved in use_case/hf-roberta-ag_news-0-1-2-split66/saved_model/best_model/pytorch_model.bin\n",
      "tokenizer config file saved in use_case/hf-roberta-ag_news-0-1-2-split66/saved_model/best_model/tokenizer_config.json\n",
      "Special tokens file saved in use_case/hf-roberta-ag_news-0-1-2-split66/saved_model/best_model/special_tokens_map.json\n"
     ]
    }
   ],
   "source": [
    "trainer.save_model(os.path.join(base_dir,\"saved_model\", \"best_model\"))"
   ]
  },
  {
   "cell_type": "code",
   "execution_count": 20,
   "id": "b043c8c2-f3a3-478c-bf33-51ff7858c808",
   "metadata": {},
   "outputs": [
    {
     "name": "stderr",
     "output_type": "stream",
     "text": [
      "The following columns in the evaluation set don't have a corresponding argument in `RobertaForSequenceClassification.forward` and have been ignored: Unnamed: 0, text, id. If Unnamed: 0, text, id are not expected by `RobertaForSequenceClassification.forward`,  you can safely ignore this message.\n",
      "***** Running Evaluation *****\n",
      "  Num examples = 5700\n",
      "  Batch size = 16\n"
     ]
    },
    {
     "name": "stdout",
     "output_type": "stream",
     "text": [
      "\n",
      " ----------------- EVALUATION BEST MODEL ON VALIDATION SET ----------------- \n",
      "\n"
     ]
    },
    {
     "data": {
      "text/html": [
       "\n",
       "    <div>\n",
       "      \n",
       "      <progress value='357' max='357' style='width:300px; height:20px; vertical-align: middle;'></progress>\n",
       "      [357/357 00:59]\n",
       "    </div>\n",
       "    "
      ],
      "text/plain": [
       "<IPython.core.display.HTML object>"
      ]
     },
     "metadata": {},
     "output_type": "display_data"
    },
    {
     "name": "stdout",
     "output_type": "stream",
     "text": [
      "<transformers.trainer_utils.EvalPrediction object at 0x7fdb93adf250>\n",
      "              precision    recall  f1-score   support\n",
      "\n",
      "           0     0.9709    0.9647    0.9678      1900\n",
      "           1     0.9905    0.9868    0.9887      1900\n",
      "           2     0.9651    0.9747    0.9699      1900\n",
      "\n",
      "    accuracy                         0.9754      5700\n",
      "   macro avg     0.9755    0.9754    0.9754      5700\n",
      "weighted avg     0.9755    0.9754    0.9754      5700\n",
      "\n",
      "{'eval_loss': 0.11965293437242508, 'eval_accuracy': 0.9754385964912281, 'eval_f1': 0.9754479209615114, 'eval_precision': 0.9754819700089796, 'eval_recall': 0.9754385964912281, 'eval_runtime': 59.686, 'eval_samples_per_second': 95.5, 'eval_steps_per_second': 5.981, 'epoch': 3.0}\n"
     ]
    }
   ],
   "source": [
    "print(\n",
    "    \"\\n ----------------- EVALUATION BEST MODEL ON VALIDATION SET ----------------- \\n\"\n",
    ")\n",
    "print(trainer.evaluate())"
   ]
  },
  {
   "cell_type": "code",
   "execution_count": null,
   "id": "dedb9690-9489-4c7c-bd3a-d4ff1e5a2ccb",
   "metadata": {},
   "outputs": [],
   "source": []
  }
 ],
 "metadata": {
  "kernelspec": {
   "display_name": "audio-env",
   "language": "python",
   "name": "audio-env"
  },
  "language_info": {
   "codemirror_mode": {
    "name": "ipython",
    "version": 3
   },
   "file_extension": ".py",
   "mimetype": "text/x-python",
   "name": "python",
   "nbconvert_exporter": "python",
   "pygments_lexer": "ipython3",
   "version": "3.9.12"
  }
 },
 "nbformat": 4,
 "nbformat_minor": 5
}
